{
 "cells": [
  {
   "cell_type": "markdown",
   "id": "7ae5ee48-5cae-4546-9c92-6af526d3fbad",
   "metadata": {
    "id": "7ae5ee48-5cae-4546-9c92-6af526d3fbad"
   },
   "source": [
    "## Limpeza/Tratamento da base"
   ]
  },
  {
   "cell_type": "code",
   "execution_count": 1,
   "id": "Up8dS11wn9Zh",
   "metadata": {
    "colab": {
     "base_uri": "https://localhost:8080/"
    },
    "id": "Up8dS11wn9Zh",
    "outputId": "2686583a-e2b5-44fc-b693-d9077a37ff78"
   },
   "outputs": [
    {
     "name": "stdout",
     "output_type": "stream",
     "text": [
      "Requirement already satisfied: fuzzywuzzy in /home/arthur/anaconda3/lib/python3.9/site-packages (0.18.0)\r\n"
     ]
    }
   ],
   "source": [
    "!pip install fuzzywuzzy"
   ]
  },
  {
   "cell_type": "code",
   "execution_count": 2,
   "id": "15004cee",
   "metadata": {
    "colab": {
     "base_uri": "https://localhost:8080/"
    },
    "id": "15004cee",
    "outputId": "517201e1-bf7a-44fd-d004-576c48cde9b6"
   },
   "outputs": [
    {
     "name": "stderr",
     "output_type": "stream",
     "text": [
      "/home/arthur/anaconda3/lib/python3.9/site-packages/fuzzywuzzy/fuzz.py:11: UserWarning: Using slow pure-python SequenceMatcher. Install python-Levenshtein to remove this warning\n",
      "  warnings.warn('Using slow pure-python SequenceMatcher. Install python-Levenshtein to remove this warning')\n"
     ]
    }
   ],
   "source": [
    "# importando bibliotecas\n",
    "import pandas as pd\n",
    "import numpy as np\n",
    "import matplotlib.pyplot as plt\n",
    "import seaborn as sns\n",
    "from datetime import datetime as dt\n",
    "import fuzzywuzzy\n",
    "from fuzzywuzzy import process"
   ]
  },
  {
   "cell_type": "code",
   "execution_count": 3,
   "id": "9f882ae5",
   "metadata": {
    "colab": {
     "base_uri": "https://localhost:8080/",
     "height": 369
    },
    "id": "9f882ae5",
    "outputId": "2f88297e-3c33-4397-b478-994c3b586d30"
   },
   "outputs": [
    {
     "data": {
      "text/html": [
       "<div>\n",
       "<style scoped>\n",
       "    .dataframe tbody tr th:only-of-type {\n",
       "        vertical-align: middle;\n",
       "    }\n",
       "\n",
       "    .dataframe tbody tr th {\n",
       "        vertical-align: top;\n",
       "    }\n",
       "\n",
       "    .dataframe thead th {\n",
       "        text-align: right;\n",
       "    }\n",
       "</style>\n",
       "<table border=\"1\" class=\"dataframe\">\n",
       "  <thead>\n",
       "    <tr style=\"text-align: right;\">\n",
       "      <th></th>\n",
       "      <th>V1</th>\n",
       "      <th>Grupo</th>\n",
       "      <th>Grupos2</th>\n",
       "      <th>@01Idadeanoscompletos</th>\n",
       "      <th>@02Estadocivil</th>\n",
       "      <th>@03EscolaridadeAnosdeestudo</th>\n",
       "      <th>@03.1Escolaridade</th>\n",
       "      <th>@04RendaFamiliaremsaláriosmínimos</th>\n",
       "      <th>@05Ocupação</th>\n",
       "      <th>t1</th>\n",
       "      <th>...</th>\n",
       "      <th>t3@55RoturaPrematuradeMembranas</th>\n",
       "      <th>@71_IG_na_resolução</th>\n",
       "      <th>t4@72Sexo</th>\n",
       "      <th>@73Pesoemgramas</th>\n",
       "      <th>@73.1ClassificaçãoPeso</th>\n",
       "      <th>@74Apgarno1ºminuto</th>\n",
       "      <th>@75Apgarno5ºminuto</th>\n",
       "      <th>@76MétododeaferiçãodeIG</th>\n",
       "      <th>t4@77UsodeOxigênio</th>\n",
       "      <th>Óbito</th>\n",
       "    </tr>\n",
       "  </thead>\n",
       "  <tbody>\n",
       "    <tr>\n",
       "      <th>0</th>\n",
       "      <td>3/26/2018</td>\n",
       "      <td>Caso</td>\n",
       "      <td>1</td>\n",
       "      <td>27</td>\n",
       "      <td>Com companheiro</td>\n",
       "      <td>13</td>\n",
       "      <td>Ensino médio incompleto</td>\n",
       "      <td></td>\n",
       "      <td>Não trabalha</td>\n",
       "      <td>Parda</td>\n",
       "      <td>...</td>\n",
       "      <td>Sim</td>\n",
       "      <td>29.000000</td>\n",
       "      <td>Masculino</td>\n",
       "      <td>1175</td>\n",
       "      <td>AIG</td>\n",
       "      <td>8</td>\n",
       "      <td>9</td>\n",
       "      <td>US 1º/2º  trimestre</td>\n",
       "      <td>Sim</td>\n",
       "      <td>2</td>\n",
       "    </tr>\n",
       "    <tr>\n",
       "      <th>1</th>\n",
       "      <td>4/26/2018</td>\n",
       "      <td>Caso</td>\n",
       "      <td>1</td>\n",
       "      <td>25</td>\n",
       "      <td>Com companheiro</td>\n",
       "      <td>0</td>\n",
       "      <td>Analfabeta</td>\n",
       "      <td></td>\n",
       "      <td>Não trabalha</td>\n",
       "      <td>Parda</td>\n",
       "      <td>...</td>\n",
       "      <td>Sim</td>\n",
       "      <td>23.714286</td>\n",
       "      <td>Masculino</td>\n",
       "      <td>665</td>\n",
       "      <td>AIG</td>\n",
       "      <td>2</td>\n",
       "      <td>4</td>\n",
       "      <td>US 1º/2º  trimestre</td>\n",
       "      <td>Sim</td>\n",
       "      <td>1</td>\n",
       "    </tr>\n",
       "    <tr>\n",
       "      <th>2</th>\n",
       "      <td>5/31/2018</td>\n",
       "      <td>Caso</td>\n",
       "      <td>3</td>\n",
       "      <td>27</td>\n",
       "      <td>Com companheiro</td>\n",
       "      <td>10</td>\n",
       "      <td>Ensino médio incompleto</td>\n",
       "      <td></td>\n",
       "      <td>Não trabalha</td>\n",
       "      <td>Parda</td>\n",
       "      <td>...</td>\n",
       "      <td>Não</td>\n",
       "      <td>35.857143</td>\n",
       "      <td>Feminino</td>\n",
       "      <td>1890</td>\n",
       "      <td>PIG</td>\n",
       "      <td>3</td>\n",
       "      <td>6</td>\n",
       "      <td>DUM</td>\n",
       "      <td>Sim</td>\n",
       "      <td>2</td>\n",
       "    </tr>\n",
       "    <tr>\n",
       "      <th>3</th>\n",
       "      <td>5/31/2018</td>\n",
       "      <td>Controle Antes</td>\n",
       "      <td>1</td>\n",
       "      <td>24</td>\n",
       "      <td>Sem companheiro</td>\n",
       "      <td>7</td>\n",
       "      <td>Ensino fundamental incompleto</td>\n",
       "      <td></td>\n",
       "      <td>Não trabalha</td>\n",
       "      <td>Parda</td>\n",
       "      <td>...</td>\n",
       "      <td>Sim</td>\n",
       "      <td>39.428571</td>\n",
       "      <td>Masculino</td>\n",
       "      <td>3280</td>\n",
       "      <td>AIG</td>\n",
       "      <td>8</td>\n",
       "      <td>9</td>\n",
       "      <td>Capurro</td>\n",
       "      <td>Não</td>\n",
       "      <td>2</td>\n",
       "    </tr>\n",
       "    <tr>\n",
       "      <th>4</th>\n",
       "      <td>5/31/2018</td>\n",
       "      <td>Controle Depois</td>\n",
       "      <td>1</td>\n",
       "      <td>38</td>\n",
       "      <td>Com companheiro</td>\n",
       "      <td>8</td>\n",
       "      <td>Ensino fundamental</td>\n",
       "      <td></td>\n",
       "      <td>Não trabalha</td>\n",
       "      <td>Parda</td>\n",
       "      <td>...</td>\n",
       "      <td>Não</td>\n",
       "      <td>37.857143</td>\n",
       "      <td>Masculino</td>\n",
       "      <td>3525</td>\n",
       "      <td>AIG</td>\n",
       "      <td>8</td>\n",
       "      <td>9</td>\n",
       "      <td>US 1º/2º  trimestre</td>\n",
       "      <td>Não</td>\n",
       "      <td>2</td>\n",
       "    </tr>\n",
       "  </tbody>\n",
       "</table>\n",
       "<p>5 rows × 59 columns</p>\n",
       "</div>"
      ],
      "text/plain": [
       "          V1            Grupo  Grupos2  @01Idadeanoscompletos  \\\n",
       "0  3/26/2018             Caso        1                     27   \n",
       "1  4/26/2018             Caso        1                     25   \n",
       "2  5/31/2018             Caso        3                     27   \n",
       "3  5/31/2018   Controle Antes        1                     24   \n",
       "4  5/31/2018  Controle Depois        1                     38   \n",
       "\n",
       "    @02Estadocivil @03EscolaridadeAnosdeestudo              @03.1Escolaridade  \\\n",
       "0  Com companheiro                          13        Ensino médio incompleto   \n",
       "1  Com companheiro                           0                     Analfabeta   \n",
       "2  Com companheiro                          10        Ensino médio incompleto   \n",
       "3  Sem companheiro                           7  Ensino fundamental incompleto   \n",
       "4  Com companheiro                           8             Ensino fundamental   \n",
       "\n",
       "  @04RendaFamiliaremsaláriosmínimos   @05Ocupação     t1  ...  \\\n",
       "0                                    Não trabalha  Parda  ...   \n",
       "1                                    Não trabalha  Parda  ...   \n",
       "2                                    Não trabalha  Parda  ...   \n",
       "3                                    Não trabalha  Parda  ...   \n",
       "4                                    Não trabalha  Parda  ...   \n",
       "\n",
       "  t3@55RoturaPrematuradeMembranas  @71_IG_na_resolução  t4@72Sexo  \\\n",
       "0                             Sim            29.000000  Masculino   \n",
       "1                             Sim            23.714286  Masculino   \n",
       "2                             Não            35.857143   Feminino   \n",
       "3                             Sim            39.428571  Masculino   \n",
       "4                             Não            37.857143  Masculino   \n",
       "\n",
       "   @73Pesoemgramas  @73.1ClassificaçãoPeso  @74Apgarno1ºminuto  \\\n",
       "0             1175                     AIG                   8   \n",
       "1              665                     AIG                   2   \n",
       "2             1890                     PIG                   3   \n",
       "3             3280                     AIG                   8   \n",
       "4             3525                     AIG                   8   \n",
       "\n",
       "  @75Apgarno5ºminuto @76MétododeaferiçãodeIG t4@77UsodeOxigênio  Óbito  \n",
       "0                  9     US 1º/2º  trimestre                Sim      2  \n",
       "1                  4     US 1º/2º  trimestre                Sim      1  \n",
       "2                  6                     DUM                Sim      2  \n",
       "3                  9                 Capurro                Não      2  \n",
       "4                  9     US 1º/2º  trimestre                Não      2  \n",
       "\n",
       "[5 rows x 59 columns]"
      ]
     },
     "execution_count": 3,
     "metadata": {},
     "output_type": "execute_result"
    }
   ],
   "source": [
    "# lendo os dados e fazendo observações\n",
    "df = pd.read_csv(\"base0.csv\")\n",
    "df.head()"
   ]
  },
  {
   "cell_type": "markdown",
   "id": "c6c6bdb8-f0b9-45ed-b086-d1d68937999c",
   "metadata": {
    "id": "c6c6bdb8-f0b9-45ed-b086-d1d68937999c"
   },
   "source": [
    "Um primeiro olhar sobre os dados nos indica os seguintes **problemas**: \n",
    "\n",
    "* nomes das colunas difíceis de ler\n",
    "* coluna de datas fora do padrão brasileiro\n",
    "* várias colunas do tipo Object mas que deveriam estar como strings/categorical\n",
    "* colunas como *Escolaridade, Procedência, Renda familiar, Sexo e Ocupação* têm inconsistências\n",
    "* coluna *Peregrinação* tem apenas um dado\n",
    "* não há valores *NA ou Null*, porém, há string vazias no dataframe\n",
    "* a coluna *obito* tem valores 1 e 2 para **não-óbito** e **óbito** respectivamente"
   ]
  },
  {
   "cell_type": "code",
   "execution_count": 4,
   "id": "6da50b70",
   "metadata": {
    "colab": {
     "base_uri": "https://localhost:8080/",
     "height": 404
    },
    "id": "6da50b70",
    "outputId": "0d7a4a22-6bca-42e1-8a95-f1cdb6c03d02"
   },
   "outputs": [
    {
     "data": {
      "text/html": [
       "<div>\n",
       "<style scoped>\n",
       "    .dataframe tbody tr th:only-of-type {\n",
       "        vertical-align: middle;\n",
       "    }\n",
       "\n",
       "    .dataframe tbody tr th {\n",
       "        vertical-align: top;\n",
       "    }\n",
       "\n",
       "    .dataframe thead th {\n",
       "        text-align: right;\n",
       "    }\n",
       "</style>\n",
       "<table border=\"1\" class=\"dataframe\">\n",
       "  <thead>\n",
       "    <tr style=\"text-align: right;\">\n",
       "      <th></th>\n",
       "      <th>data</th>\n",
       "      <th>grupo1</th>\n",
       "      <th>grupo2</th>\n",
       "      <th>idade</th>\n",
       "      <th>estado_civil</th>\n",
       "      <th>anos_de_estudo</th>\n",
       "      <th>escolaridade</th>\n",
       "      <th>renda_familiar</th>\n",
       "      <th>ocupacao</th>\n",
       "      <th>ident_racial</th>\n",
       "      <th>...</th>\n",
       "      <th>rotura_prematura_membranas</th>\n",
       "      <th>ig_resolucao</th>\n",
       "      <th>sexo</th>\n",
       "      <th>peso(g)</th>\n",
       "      <th>classificacao_peso</th>\n",
       "      <th>apgar_1minuto</th>\n",
       "      <th>apgar_5minuto</th>\n",
       "      <th>metodo_afericao_ig</th>\n",
       "      <th>oxigenio</th>\n",
       "      <th>obito</th>\n",
       "    </tr>\n",
       "  </thead>\n",
       "  <tbody>\n",
       "    <tr>\n",
       "      <th>0</th>\n",
       "      <td>3/26/2018</td>\n",
       "      <td>Caso</td>\n",
       "      <td>1</td>\n",
       "      <td>27</td>\n",
       "      <td>Com companheiro</td>\n",
       "      <td>13</td>\n",
       "      <td>Ensino médio incompleto</td>\n",
       "      <td></td>\n",
       "      <td>Não trabalha</td>\n",
       "      <td>Parda</td>\n",
       "      <td>...</td>\n",
       "      <td>Sim</td>\n",
       "      <td>29.000000</td>\n",
       "      <td>Masculino</td>\n",
       "      <td>1175</td>\n",
       "      <td>AIG</td>\n",
       "      <td>8</td>\n",
       "      <td>9</td>\n",
       "      <td>US 1º/2º  trimestre</td>\n",
       "      <td>Sim</td>\n",
       "      <td>2</td>\n",
       "    </tr>\n",
       "    <tr>\n",
       "      <th>1</th>\n",
       "      <td>4/26/2018</td>\n",
       "      <td>Caso</td>\n",
       "      <td>1</td>\n",
       "      <td>25</td>\n",
       "      <td>Com companheiro</td>\n",
       "      <td>0</td>\n",
       "      <td>Analfabeta</td>\n",
       "      <td></td>\n",
       "      <td>Não trabalha</td>\n",
       "      <td>Parda</td>\n",
       "      <td>...</td>\n",
       "      <td>Sim</td>\n",
       "      <td>23.714286</td>\n",
       "      <td>Masculino</td>\n",
       "      <td>665</td>\n",
       "      <td>AIG</td>\n",
       "      <td>2</td>\n",
       "      <td>4</td>\n",
       "      <td>US 1º/2º  trimestre</td>\n",
       "      <td>Sim</td>\n",
       "      <td>1</td>\n",
       "    </tr>\n",
       "    <tr>\n",
       "      <th>2</th>\n",
       "      <td>5/31/2018</td>\n",
       "      <td>Caso</td>\n",
       "      <td>3</td>\n",
       "      <td>27</td>\n",
       "      <td>Com companheiro</td>\n",
       "      <td>10</td>\n",
       "      <td>Ensino médio incompleto</td>\n",
       "      <td></td>\n",
       "      <td>Não trabalha</td>\n",
       "      <td>Parda</td>\n",
       "      <td>...</td>\n",
       "      <td>Não</td>\n",
       "      <td>35.857143</td>\n",
       "      <td>Feminino</td>\n",
       "      <td>1890</td>\n",
       "      <td>PIG</td>\n",
       "      <td>3</td>\n",
       "      <td>6</td>\n",
       "      <td>DUM</td>\n",
       "      <td>Sim</td>\n",
       "      <td>2</td>\n",
       "    </tr>\n",
       "    <tr>\n",
       "      <th>3</th>\n",
       "      <td>5/31/2018</td>\n",
       "      <td>Controle Antes</td>\n",
       "      <td>1</td>\n",
       "      <td>24</td>\n",
       "      <td>Sem companheiro</td>\n",
       "      <td>7</td>\n",
       "      <td>Ensino fundamental incompleto</td>\n",
       "      <td></td>\n",
       "      <td>Não trabalha</td>\n",
       "      <td>Parda</td>\n",
       "      <td>...</td>\n",
       "      <td>Sim</td>\n",
       "      <td>39.428571</td>\n",
       "      <td>Masculino</td>\n",
       "      <td>3280</td>\n",
       "      <td>AIG</td>\n",
       "      <td>8</td>\n",
       "      <td>9</td>\n",
       "      <td>Capurro</td>\n",
       "      <td>Não</td>\n",
       "      <td>2</td>\n",
       "    </tr>\n",
       "    <tr>\n",
       "      <th>4</th>\n",
       "      <td>5/31/2018</td>\n",
       "      <td>Controle Depois</td>\n",
       "      <td>1</td>\n",
       "      <td>38</td>\n",
       "      <td>Com companheiro</td>\n",
       "      <td>8</td>\n",
       "      <td>Ensino fundamental</td>\n",
       "      <td></td>\n",
       "      <td>Não trabalha</td>\n",
       "      <td>Parda</td>\n",
       "      <td>...</td>\n",
       "      <td>Não</td>\n",
       "      <td>37.857143</td>\n",
       "      <td>Masculino</td>\n",
       "      <td>3525</td>\n",
       "      <td>AIG</td>\n",
       "      <td>8</td>\n",
       "      <td>9</td>\n",
       "      <td>US 1º/2º  trimestre</td>\n",
       "      <td>Não</td>\n",
       "      <td>2</td>\n",
       "    </tr>\n",
       "  </tbody>\n",
       "</table>\n",
       "<p>5 rows × 59 columns</p>\n",
       "</div>"
      ],
      "text/plain": [
       "        data           grupo1  grupo2  idade     estado_civil anos_de_estudo  \\\n",
       "0  3/26/2018             Caso       1     27  Com companheiro             13   \n",
       "1  4/26/2018             Caso       1     25  Com companheiro              0   \n",
       "2  5/31/2018             Caso       3     27  Com companheiro             10   \n",
       "3  5/31/2018   Controle Antes       1     24  Sem companheiro              7   \n",
       "4  5/31/2018  Controle Depois       1     38  Com companheiro              8   \n",
       "\n",
       "                    escolaridade renda_familiar      ocupacao ident_racial  \\\n",
       "0        Ensino médio incompleto                 Não trabalha        Parda   \n",
       "1                     Analfabeta                 Não trabalha        Parda   \n",
       "2        Ensino médio incompleto                 Não trabalha        Parda   \n",
       "3  Ensino fundamental incompleto                 Não trabalha        Parda   \n",
       "4             Ensino fundamental                 Não trabalha        Parda   \n",
       "\n",
       "   ... rotura_prematura_membranas  ig_resolucao       sexo  peso(g)  \\\n",
       "0  ...                        Sim     29.000000  Masculino     1175   \n",
       "1  ...                        Sim     23.714286  Masculino      665   \n",
       "2  ...                        Não     35.857143   Feminino     1890   \n",
       "3  ...                        Sim     39.428571  Masculino     3280   \n",
       "4  ...                        Não     37.857143  Masculino     3525   \n",
       "\n",
       "   classificacao_peso  apgar_1minuto apgar_5minuto   metodo_afericao_ig  \\\n",
       "0                 AIG              8             9  US 1º/2º  trimestre   \n",
       "1                 AIG              2             4  US 1º/2º  trimestre   \n",
       "2                 PIG              3             6                  DUM   \n",
       "3                 AIG              8             9              Capurro   \n",
       "4                 AIG              8             9  US 1º/2º  trimestre   \n",
       "\n",
       "  oxigenio  obito  \n",
       "0      Sim      2  \n",
       "1      Sim      1  \n",
       "2      Sim      2  \n",
       "3      Não      2  \n",
       "4      Não      2  \n",
       "\n",
       "[5 rows x 59 columns]"
      ]
     },
     "execution_count": 4,
     "metadata": {},
     "output_type": "execute_result"
    }
   ],
   "source": [
    "# renomeando as colunas e corrigindo alguns campos\n",
    "# hac = hipertensão arterial crônica\n",
    "# drc = doença renal crônica\n",
    "# dr = doenças renais\n",
    "col_names = ['data', 'grupo1', 'grupo2', 'idade', 'estado_civil', 'anos_de_estudo', 'escolaridade', 'renda_familiar',\n",
    "            'ocupacao', 'ident_racial', 'procedencia', 'num_gestacoes', 'num_partos', 'num_abortos', 'num_cesarias_previas', \n",
    "            'num_filhos_vivos', 'pre_natal', 'mesma_pessoa_pre_natal', 'num_consulta_prenatal', 'igpn', 'altura(cm)', \n",
    "            'peso_ini_pre_natal(kg)', 'peso_fim_pre_natal(kg)', 'dificuldade_no_pre_natal', 'peregrinacao', 'hac', 'obesidade', \n",
    "            'baixo_peso', 'diabetes_melitus', 'tabagismo', 'doencas_cardiacas', 'drc', 'dr', 'hiv_aids', 'tireoidopatias', \n",
    "            'lupus', 'asma', 'sifilis', 'anemia_hemoglobina_10g', 'itu', 'pre_eclampsia', 'eclampsia', 'sindrome_hellp',\n",
    "            'sepse', 'trabalho_parto_prematuro', 'hemorragia_severa', 'uso_sulfato_magnesio', 'internacao_uti',\n",
    "            'transfusao_hemovariados', 'rotura_prematura_membranas', 'ig_resolucao', 'sexo', 'peso(g)', 'classificacao_peso',\n",
    "            'apgar_1minuto', 'apgar_5minuto', 'metodo_afericao_ig', 'oxigenio', 'obito']\n",
    "\n",
    "df.columns = col_names\n",
    "df.head()"
   ]
  },
  {
   "cell_type": "code",
   "execution_count": 5,
   "id": "9f00dbca",
   "metadata": {
    "colab": {
     "base_uri": "https://localhost:8080/"
    },
    "id": "9f00dbca",
    "outputId": "4a1dea0b-34ad-469e-fdcc-ff005b375673"
   },
   "outputs": [
    {
     "data": {
      "text/plain": [
       "[' ',\n",
       " 'Analfabeta',\n",
       " 'ENSINO MÉDIO',\n",
       " 'Ensino  Fundamental',\n",
       " 'Ensino fundamental',\n",
       " 'Ensino fundamental incompleto',\n",
       " 'Ensino medio',\n",
       " 'Ensino medio incompleto',\n",
       " 'Ensino medio incopleto',\n",
       " 'Ensino médio',\n",
       " 'Ensino médio incompleto',\n",
       " 'Ensino superior',\n",
       " 'Ensino superior incompleto',\n",
       " 'ensino medio',\n",
       " 'ensino médio',\n",
       " 'ensino superior']"
      ]
     },
     "execution_count": 5,
     "metadata": {},
     "output_type": "execute_result"
    }
   ],
   "source": [
    "# verificando as inconsistências da coluna\n",
    "esc = df['escolaridade'].unique()\n",
    "sorted(esc)"
   ]
  },
  {
   "cell_type": "code",
   "execution_count": 6,
   "id": "a5f523c4",
   "metadata": {
    "colab": {
     "base_uri": "https://localhost:8080/"
    },
    "id": "a5f523c4",
    "outputId": "456eb8ee-feee-4211-e869-e3557c0357ac"
   },
   "outputs": [
    {
     "data": {
      "text/plain": [
       "[('Ensino médio', 100),\n",
       " ('ensino médio', 100),\n",
       " ('ENSINO MÉDIO', 100),\n",
       " ('ensino medio', 96),\n",
       " ('Ensino medio', 96),\n",
       " ('Ensino superior', 69),\n",
       " ('ensino superior', 69),\n",
       " ('Ensino médio incompleto', 67),\n",
       " ('Ensino medio incopleto', 67),\n",
       " ('Ensino medio incompleto', 65),\n",
       " ('Ensino fundamental', 55),\n",
       " ('Ensino  Fundamental', 55),\n",
       " ('Ensino superior incompleto', 54),\n",
       " ('Ensino fundamental incompleto', 50),\n",
       " ('Analfabeta', 10),\n",
       " (' ', 0)]"
      ]
     },
     "execution_count": 6,
     "metadata": {},
     "output_type": "execute_result"
    }
   ],
   "source": [
    "# usando o pacote fuzzywuzzy para checar e corrigir essas inconsistências\n",
    "matches = fuzzywuzzy.process.extract('Ensino Médio', esc, limit=16, scorer=fuzzywuzzy.fuzz.token_sort_ratio) \n",
    "matches"
   ]
  },
  {
   "cell_type": "code",
   "execution_count": 7,
   "id": "fe3e3a23",
   "metadata": {
    "id": "fe3e3a23"
   },
   "outputs": [],
   "source": [
    "# função para consertar inconsistências nas strings\n",
    "def replace_matches_in_column(df, column, string_to_match, min_ratio = 90):\n",
    "    # pega os valores da coluna do dataframe\n",
    "    strings = df[column].unique()\n",
    "    \n",
    "    # encontra os matches\n",
    "    matches = fuzzywuzzy.process.extract(string_to_match, strings, limit=150, \n",
    "                                                   scorer=fuzzywuzzy.fuzz.token_sort_ratio)\n",
    "    \n",
    "    # pega matches a partir de 90 pontos\n",
    "    close_matches = [matches[0] for matches in matches if matches[1] >= min_ratio]\n",
    "    \n",
    "    # compara as strings do dataframe com os close_matches\n",
    "    rows_with_matches = df[column].isin(close_matches)\n",
    "    \n",
    "    # faz a reposição do valor encontrado\n",
    "    df.loc[rows_with_matches, column] = string_to_match"
   ]
  },
  {
   "cell_type": "code",
   "execution_count": 8,
   "id": "39d059b0",
   "metadata": {
    "id": "39d059b0"
   },
   "outputs": [],
   "source": [
    "# corrigindo algumas inconsistências de strings\n",
    "df['ocupacao'] = df['ocupacao'].str.lower() # pondo todos os dados da coluna como lower case\n",
    "df.drop(columns=['peregrinacao'], inplace=True) # deletando a coluna por ter um dado somente\n",
    "df['sexo'] = df['sexo'].str.lower() # pondo todos os dados da coluna como lower case\n",
    "df['sexo'].replace({'masculino': 'M', 'feminino': 'F', 'indeterminado': 'IND'}, inplace=True) # alterando valores para melhorar leitura\n",
    "df['mesma_pessoa_pre_natal'].replace({'nao': 'Não'}, inplace=True) # inconsistência em um único valor\n",
    "\n",
    "replace_matches_in_column(df, 'escolaridade', 'Ensino fundamental')\n",
    "replace_matches_in_column(df, 'escolaridade', 'Ensino médio')\n",
    "replace_matches_in_column(df, 'escolaridade', 'Ensino superior')\n",
    "replace_matches_in_column(df, 'escolaridade', 'Ensino médio incompleto')\n",
    "replace_matches_in_column(df, 'renda_familiar', 'Um salário mínimo')\n",
    "replace_matches_in_column(df, 'procedencia', 'Capital e RM')\n",
    "replace_matches_in_column(df, 'procedencia', 'Interior')"
   ]
  },
  {
   "cell_type": "code",
   "execution_count": 9,
   "id": "0b614256",
   "metadata": {
    "colab": {
     "base_uri": "https://localhost:8080/"
    },
    "id": "0b614256",
    "outputId": "65bae330-ec9e-4d4a-e40d-c4b35dcfe27d"
   },
   "outputs": [
    {
     "name": "stdout",
     "output_type": "stream",
     "text": [
      "Aproximadamente 3.0536% dos dados estão vazios.\n"
     ]
    }
   ],
   "source": [
    "# substituir valores de string vazias por NaN values\n",
    "# calcular porcentagem de dados faltantes\n",
    "df.replace(r'^\\s*$', np.nan, regex=True, inplace=True)\n",
    "\n",
    "total = np.product(df.shape)\n",
    "missing = df.isna().sum().sum()\n",
    "perc_missing = missing/total*100\n",
    "print('Aproximadamente {} dos dados estão vazios.'.format(str(round(perc_missing, 4)) + '%'))"
   ]
  },
  {
   "cell_type": "markdown",
   "id": "jhDwmUdojIdw",
   "metadata": {
    "id": "jhDwmUdojIdw"
   },
   "source": [
    "Como há uma quantidade significativa de dados faltantes no dataset, é aconselhável a **não exclusão** desses valores.  \n",
    "\n",
    "Iremos então, completar esses campos usando alguns métodos que nos permitirão fazer análises sem comprometer os resultados finais. "
   ]
  },
  {
   "cell_type": "code",
   "execution_count": 10,
   "id": "60543740",
   "metadata": {
    "colab": {
     "base_uri": "https://localhost:8080/"
    },
    "id": "60543740",
    "outputId": "23eb393d-6765-48c6-9666-2f53ffe8a004"
   },
   "outputs": [
    {
     "data": {
      "text/plain": [
       "array(['Não respondeu', 'Um salário mínimo',\n",
       "       'Maior que um salário mínimo', 'Menor que um salário mínimo'],\n",
       "      dtype=object)"
      ]
     },
     "execution_count": 10,
     "metadata": {},
     "output_type": "execute_result"
    }
   ],
   "source": [
    "# substituindo valores NaN de algumas colunas\n",
    "df[['renda_familiar', 'procedencia', 'ocupacao', 'escolaridade', 'dificuldade_no_pre_natal']] = df[['renda_familiar', 'procedencia', 'ocupacao', 'escolaridade', 'dificuldade_no_pre_natal']].fillna('Não respondeu') \n",
    "df['renda_familiar'].unique()"
   ]
  },
  {
   "cell_type": "code",
   "execution_count": 11,
   "id": "acc0ed57",
   "metadata": {
    "colab": {
     "base_uri": "https://localhost:8080/"
    },
    "id": "acc0ed57",
    "outputId": "6a11e379-d292-449c-e3a0-6ba8001053c4"
   },
   "outputs": [
    {
     "data": {
      "text/plain": [
       "0    26/03/2018\n",
       "1    26/04/2018\n",
       "2    31/05/2018\n",
       "3    31/05/2018\n",
       "4    31/05/2018\n",
       "Name: data, dtype: object"
      ]
     },
     "execution_count": 11,
     "metadata": {},
     "output_type": "execute_result"
    }
   ],
   "source": [
    "# padronizando as datas para o formato dd/mm/aa\n",
    "df['data'] = df['data'].fillna(method='ffill')\n",
    "df['data'] = pd.to_datetime(df['data'], infer_datetime_format=True).dt.strftime('%d/%m/%Y')\n",
    "df['data'].head()"
   ]
  },
  {
   "cell_type": "markdown",
   "id": "9d3dc77f-9d47-471a-bab6-0de911825ae7",
   "metadata": {
    "id": "9d3dc77f-9d47-471a-bab6-0de911825ae7"
   },
   "source": [
    "Vamos completar os dados faltantes através do atributo *ffill*, do método *fillna* do pandas.  \n",
    "Esse método coleta a última observação válida de uma 'célula' e a repassa à frente, para uma 'célula' de valor *na* ou *null*.  \n",
    "Confira a documentação [aqui](https://pandas.pydata.org/docs/reference/api/pandas.DataFrame.fillna.html) para saber mais sobre o método *fillna* e seus atributos. "
   ]
  },
  {
   "cell_type": "code",
   "execution_count": 12,
   "id": "f4dddb77",
   "metadata": {
    "colab": {
     "base_uri": "https://localhost:8080/"
    },
    "id": "f4dddb77",
    "outputId": "3079fc7f-34a2-4781-8755-35f1e66b544b"
   },
   "outputs": [
    {
     "name": "stdout",
     "output_type": "stream",
     "text": [
      "<class 'pandas.core.frame.DataFrame'>\n",
      "RangeIndex: 1092 entries, 0 to 1091\n",
      "Data columns (total 58 columns):\n",
      " #   Column                      Non-Null Count  Dtype  \n",
      "---  ------                      --------------  -----  \n",
      " 0   data                        1092 non-null   object \n",
      " 1   grupo1                      1092 non-null   object \n",
      " 2   grupo2                      1092 non-null   int64  \n",
      " 3   idade                       1092 non-null   int64  \n",
      " 4   estado_civil                1092 non-null   object \n",
      " 5   anos_de_estudo              1092 non-null   object \n",
      " 6   escolaridade                1092 non-null   object \n",
      " 7   renda_familiar              1092 non-null   object \n",
      " 8   ocupacao                    1092 non-null   object \n",
      " 9   ident_racial                1092 non-null   object \n",
      " 10  procedencia                 1092 non-null   object \n",
      " 11  num_gestacoes               1092 non-null   int64  \n",
      " 12  num_partos                  1092 non-null   int64  \n",
      " 13  num_abortos                 1092 non-null   int64  \n",
      " 14  num_cesarias_previas        1092 non-null   int64  \n",
      " 15  num_filhos_vivos            1092 non-null   int64  \n",
      " 16  pre_natal                   1092 non-null   object \n",
      " 17  mesma_pessoa_pre_natal      1092 non-null   object \n",
      " 18  num_consulta_prenatal       1092 non-null   object \n",
      " 19  igpn                        1092 non-null   float64\n",
      " 20  altura(cm)                  1092 non-null   object \n",
      " 21  peso_ini_pre_natal(kg)      1092 non-null   object \n",
      " 22  peso_fim_pre_natal(kg)      1092 non-null   object \n",
      " 23  dificuldade_no_pre_natal    1092 non-null   object \n",
      " 24  hac                         1092 non-null   object \n",
      " 25  obesidade                   1092 non-null   object \n",
      " 26  baixo_peso                  1092 non-null   object \n",
      " 27  diabetes_melitus            1092 non-null   object \n",
      " 28  tabagismo                   1092 non-null   object \n",
      " 29  doencas_cardiacas           1092 non-null   object \n",
      " 30  drc                         1092 non-null   object \n",
      " 31  dr                          1092 non-null   object \n",
      " 32  hiv_aids                    1092 non-null   object \n",
      " 33  tireoidopatias              1092 non-null   object \n",
      " 34  lupus                       1092 non-null   object \n",
      " 35  asma                        1092 non-null   object \n",
      " 36  sifilis                     1092 non-null   object \n",
      " 37  anemia_hemoglobina_10g      1092 non-null   object \n",
      " 38  itu                         1092 non-null   object \n",
      " 39  pre_eclampsia               1092 non-null   object \n",
      " 40  eclampsia                   1092 non-null   object \n",
      " 41  sindrome_hellp              1092 non-null   object \n",
      " 42  sepse                       1092 non-null   object \n",
      " 43  trabalho_parto_prematuro    1092 non-null   object \n",
      " 44  hemorragia_severa           1092 non-null   object \n",
      " 45  uso_sulfato_magnesio        1092 non-null   object \n",
      " 46  internacao_uti              1092 non-null   object \n",
      " 47  transfusao_hemovariados     1092 non-null   object \n",
      " 48  rotura_prematura_membranas  1092 non-null   object \n",
      " 49  ig_resolucao                1092 non-null   float64\n",
      " 50  sexo                        1092 non-null   object \n",
      " 51  peso(g)                     1092 non-null   int64  \n",
      " 52  classificacao_peso          1092 non-null   object \n",
      " 53  apgar_1minuto               1092 non-null   int64  \n",
      " 54  apgar_5minuto               1092 non-null   int64  \n",
      " 55  metodo_afericao_ig          1092 non-null   object \n",
      " 56  oxigenio                    1092 non-null   object \n",
      " 57  obito                       1092 non-null   int64  \n",
      "dtypes: float64(2), int64(11), object(45)\n",
      "memory usage: 494.9+ KB\n"
     ]
    }
   ],
   "source": [
    "# completando dados faltantes\n",
    "df.fillna(method='ffill', inplace=True)\n",
    "df.info()"
   ]
  },
  {
   "cell_type": "code",
   "execution_count": 13,
   "id": "8a3618a0",
   "metadata": {
    "colab": {
     "base_uri": "https://localhost:8080/"
    },
    "id": "8a3618a0",
    "outputId": "1fda4a23-c8b2-4b65-a1ff-276e7a79d239"
   },
   "outputs": [
    {
     "data": {
      "text/plain": [
       "[' tecnica de saúde bucal',\n",
       " 'Não respondeu',\n",
       " 'a',\n",
       " 'administradora',\n",
       " 'agente administrativa',\n",
       " 'agente comunitária de saúde',\n",
       " 'agente comunitário de saúde',\n",
       " 'agricultora',\n",
       " 'agricultura',\n",
       " 'assistente administrativa',\n",
       " 'assistente odontológica',\n",
       " 'assistência recursos humanos',\n",
       " 'assitente de rh',\n",
       " 'atendente',\n",
       " 'atendente administrativo',\n",
       " 'atendente de farmácia',\n",
       " 'atendente de lanchonete',\n",
       " 'atendente de loja',\n",
       " 'atendente na fabrica de calçados',\n",
       " 'autonoma',\n",
       " 'autonôma',\n",
       " 'autônoma',\n",
       " 'auxiliar administrativa',\n",
       " 'auxiliar administrativo',\n",
       " 'auxiliar de atendente',\n",
       " 'auxiliar de conzinha',\n",
       " 'auxiliar de costureira',\n",
       " 'auxiliar de cozinha',\n",
       " 'auxiliar de escritorio',\n",
       " 'auxiliar de escritório',\n",
       " 'auxiliar de laboratorio',\n",
       " 'auxiliar de loja',\n",
       " 'auxiliar de produção',\n",
       " 'auxiliar de professora',\n",
       " 'auxiliar de serviços gerais',\n",
       " 'babá',\n",
       " 'balconista',\n",
       " 'bordadeira',\n",
       " 'cabeleleira',\n",
       " 'cabelereira',\n",
       " 'caixa',\n",
       " 'caixa de supermercado',\n",
       " 'camareira',\n",
       " 'cambista',\n",
       " 'chefe de cozinha',\n",
       " 'colégio farias brito',\n",
       " 'comerciante',\n",
       " 'como embaladora',\n",
       " 'confeccionista',\n",
       " 'confecção',\n",
       " 'consultora',\n",
       " 'conzinheira',\n",
       " 'cortadeira',\n",
       " 'costueira',\n",
       " 'costureira',\n",
       " 'costureita',\n",
       " 'cozinheira',\n",
       " 'cuidadora',\n",
       " 'cuidadora de idoso',\n",
       " 'decoradora',\n",
       " 'depiladora',\n",
       " 'diarista',\n",
       " 'domestica',\n",
       " 'doméstica',\n",
       " 'educadora de trânsito',\n",
       " 'educação de transito',\n",
       " 'empresaria',\n",
       " 'empresária',\n",
       " 'enfermeira',\n",
       " 'estagiária dos recursos humanos',\n",
       " 'faxineira',\n",
       " 'feirante',\n",
       " 'fiscal de loja',\n",
       " 'fisioterapeuta',\n",
       " 'garçonete',\n",
       " 'gerente administrativa',\n",
       " 'gerente de restaurante',\n",
       " 'jovem aprendiz',\n",
       " 'lava jato',\n",
       " 'manicure',\n",
       " 'manipuladora de alimentos',\n",
       " 'massoterapeutica',\n",
       " 'micro emresária',\n",
       " 'microempresária',\n",
       " 'não trabalha',\n",
       " 'operadora de caixa',\n",
       " 'operadora de telemarking',\n",
       " 'optometrista',\n",
       " 'pedagoga',\n",
       " 'pequena empresária (confecção)',\n",
       " 'prefeitura',\n",
       " 'professora',\n",
       " 'promotora de vendas',\n",
       " 'recepcionista',\n",
       " 'secretaria',\n",
       " 'segurança',\n",
       " 'selecionadora de castanha',\n",
       " 'serviços gerais',\n",
       " 'sim',\n",
       " 'soldadora',\n",
       " 'supervisora',\n",
       " 'tecnica de enfermagem',\n",
       " 'tecnica de farmácia',\n",
       " 'tecnica em segurança do trabalho',\n",
       " 'telemarking',\n",
       " 'técnica de emfermagem',\n",
       " 'técnica de prótese dentária',\n",
       " 'técnica de saúde bucal',\n",
       " 'técnico de segurança do trabalho',\n",
       " 'vendas',\n",
       " 'vende crochê',\n",
       " 'vendedora',\n",
       " 'vendedora ambulante',\n",
       " 'vendedora autônoma',\n",
       " 'vendedora de roupas',\n",
       " 'vendedoura',\n",
       " 'vocalista',\n",
       " 'zeladora']"
      ]
     },
     "execution_count": 13,
     "metadata": {},
     "output_type": "execute_result"
    }
   ],
   "source": [
    "# observando strings inconsistentes na coluna 'ocupacao'\n",
    "sorted(df['ocupacao'].unique())"
   ]
  },
  {
   "cell_type": "markdown",
   "id": "4dbdbe9e-29c6-44d4-8713-60e615eb9d8b",
   "metadata": {
    "id": "4dbdbe9e-29c6-44d4-8713-60e615eb9d8b"
   },
   "source": [
    "É possível ver que a coluna acima é muito volumosa, contendo várias strings mal formatadas que podem indicar a mesma profissão.  \n",
    "Diante disso, vamos criar uma função capaz de consertar essas inconsistências, de modo que também diminua o espaço de memória utilizado pela coluna de ocupação. "
   ]
  },
  {
   "cell_type": "code",
   "execution_count": 14,
   "id": "89460652",
   "metadata": {
    "id": "89460652"
   },
   "outputs": [],
   "source": [
    "# função para fazer limpeza dos nomes dos cargos\n",
    "def cleaning_the_names(job):\n",
    "    if job.__contains__('bucal'):\n",
    "        return 'técnica de sáude bucal'\n",
    "    elif job.__contains__('assistência recursos humanos')|job.__contains__('assitente de rh'):\n",
    "        return 'assistente de rh'\n",
    "    elif job.__contains__('atendente'):\n",
    "        return 'atendente'\n",
    "    elif job.__contains__('aut'):\n",
    "        return 'autônoma'\n",
    "    elif job.__contains__('auxiliar de conzinha'):\n",
    "        return 'auxiliar de cozinha'\n",
    "    elif job.__contains__('auxiliar de escritorio'):\n",
    "        return 'auxiliar de escritório'\n",
    "    elif job.__contains__('cabele'):\n",
    "        return 'cabeleireira'\n",
    "    elif job.__contains__('caixa'):\n",
    "        return 'caixa'\n",
    "    elif job.__contains__('confec'):\n",
    "        return 'confeccionista'\n",
    "    elif job.__contains__('conzinheira'):\n",
    "        return 'cozinheira'\n",
    "    elif job.__contains__('costu'):\n",
    "        return 'costureira'\n",
    "    elif job.__contains__('cuidadora'):\n",
    "        return 'cuidadora'\n",
    "    elif job.__contains__('domestica'):\n",
    "        return 'doméstica'\n",
    "    elif job.__contains__('educa'):\n",
    "        return 'educadora de trânsito'\n",
    "    elif job.__contains__('empresaria')|job.__contains__('empresária'):\n",
    "        return 'empresária'\n",
    "    elif job.__contains__('micro'):\n",
    "        return 'microempresária'\n",
    "    elif job.__contains__('tecnica de enfermagem')|job.__contains__('técnica de emfermagem'):\n",
    "        return 'técnica de enfermagem'\n",
    "    elif job.__contains__('vendedo')|job.__contains__('vende')|job.__contains__('vendas'):\n",
    "        return 'vendedora'\n",
    "    elif job.__contains__('sim'):\n",
    "        return 'Não respondeu'\n",
    "    elif job == 'a':\n",
    "        return 'Não respondeu'\n",
    "    else:\n",
    "        return job"
   ]
  },
  {
   "cell_type": "code",
   "execution_count": 15,
   "id": "15dc8b00",
   "metadata": {
    "colab": {
     "base_uri": "https://localhost:8080/"
    },
    "id": "15dc8b00",
    "outputId": "1069322b-4a87-403e-d3ed-6a4acad171d1"
   },
   "outputs": [
    {
     "data": {
      "text/plain": [
       "['Não respondeu',\n",
       " 'administradora',\n",
       " 'agente administrativa',\n",
       " 'agente comunitária de saúde',\n",
       " 'agente comunitário de saúde',\n",
       " 'agricultora',\n",
       " 'agricultura',\n",
       " 'assistente administrativa',\n",
       " 'assistente de rh',\n",
       " 'assistente odontológica',\n",
       " 'atendente',\n",
       " 'autônoma',\n",
       " 'auxiliar administrativa',\n",
       " 'auxiliar administrativo',\n",
       " 'auxiliar de cozinha',\n",
       " 'auxiliar de escritório',\n",
       " 'auxiliar de laboratorio',\n",
       " 'auxiliar de loja',\n",
       " 'auxiliar de produção',\n",
       " 'auxiliar de professora',\n",
       " 'auxiliar de serviços gerais',\n",
       " 'babá',\n",
       " 'balconista',\n",
       " 'bordadeira',\n",
       " 'cabeleireira',\n",
       " 'caixa',\n",
       " 'camareira',\n",
       " 'cambista',\n",
       " 'chefe de cozinha',\n",
       " 'colégio farias brito',\n",
       " 'comerciante',\n",
       " 'como embaladora',\n",
       " 'confeccionista',\n",
       " 'consultora',\n",
       " 'cortadeira',\n",
       " 'costureira',\n",
       " 'cozinheira',\n",
       " 'cuidadora',\n",
       " 'decoradora',\n",
       " 'depiladora',\n",
       " 'diarista',\n",
       " 'doméstica',\n",
       " 'educadora de trânsito',\n",
       " 'empresária',\n",
       " 'enfermeira',\n",
       " 'estagiária dos recursos humanos',\n",
       " 'faxineira',\n",
       " 'feirante',\n",
       " 'fiscal de loja',\n",
       " 'fisioterapeuta',\n",
       " 'garçonete',\n",
       " 'gerente administrativa',\n",
       " 'gerente de restaurante',\n",
       " 'jovem aprendiz',\n",
       " 'lava jato',\n",
       " 'manicure',\n",
       " 'manipuladora de alimentos',\n",
       " 'massoterapeutica',\n",
       " 'microempresária',\n",
       " 'não trabalha',\n",
       " 'operadora de telemarking',\n",
       " 'optometrista',\n",
       " 'pedagoga',\n",
       " 'prefeitura',\n",
       " 'professora',\n",
       " 'recepcionista',\n",
       " 'secretaria',\n",
       " 'segurança',\n",
       " 'selecionadora de castanha',\n",
       " 'serviços gerais',\n",
       " 'soldadora',\n",
       " 'supervisora',\n",
       " 'tecnica de farmácia',\n",
       " 'tecnica em segurança do trabalho',\n",
       " 'telemarking',\n",
       " 'técnica de enfermagem',\n",
       " 'técnica de prótese dentária',\n",
       " 'técnica de sáude bucal',\n",
       " 'técnico de segurança do trabalho',\n",
       " 'vendedora',\n",
       " 'vocalista',\n",
       " 'zeladora']"
      ]
     },
     "execution_count": 15,
     "metadata": {},
     "output_type": "execute_result"
    }
   ],
   "source": [
    "# aplicando a função no dataframe e verificando em seguida\n",
    "df['ocupacao'] = df['ocupacao'].map(cleaning_the_names)\n",
    "sorted(df['ocupacao'].unique())"
   ]
  },
  {
   "cell_type": "markdown",
   "id": "b2448f6a-bea7-45ba-8eb8-c11a897aca8b",
   "metadata": {
    "id": "b2448f6a-bea7-45ba-8eb8-c11a897aca8b"
   },
   "source": [
    "Após concluída a limpeza, devemos transformar os dtypes das colunas para seus valores corretos, como passar:\n",
    "\n",
    "* *object* $\\rightarrow$ *string*\n",
    "* *string* $\\rightarrow$ *float*\n",
    "* *string* $\\rightarrow$ *int*\n",
    "\n",
    "Caso a base possua uma quantidade muito maior de registros, a fim de reduzir a quantidade de memória em uso, bem como obter mais performance nas ações tomadas, poderíamos transformar as colunas de *string* para o dtype *categorical*."
   ]
  },
  {
   "cell_type": "code",
   "execution_count": 16,
   "id": "96b9f749",
   "metadata": {
    "id": "96b9f749"
   },
   "outputs": [],
   "source": [
    "# parsing das colunas\n",
    "df['grupo1'] = df['grupo1'].astype('string')\n",
    "df['grupo2'] = df['grupo2'].astype(int)\n",
    "df['estado_civil'] = df['estado_civil'].astype('string')\n",
    "df['anos_de_estudo'] = df['anos_de_estudo'].astype(int)\n",
    "df['escolaridade'] = df['escolaridade'].astype('string')\n",
    "df['renda_familiar'] = df['renda_familiar'].astype('string')\n",
    "df['ocupacao'] = df['ocupacao'].astype('string')\n",
    "df['ident_racial'] = df['ident_racial'].astype('string')\n",
    "df['procedencia'] = df['procedencia'].astype('string')\n",
    "df['pre_natal'] = df['pre_natal'].astype('string')\n",
    "df['mesma_pessoa_pre_natal'] = df['mesma_pessoa_pre_natal'].astype('string')\n",
    "df['num_consulta_prenatal'] = df['num_consulta_prenatal'].astype(int)\n",
    "df['altura(cm)'] = df['altura(cm)'].astype(int)\n",
    "df['peso_ini_pre_natal(kg)'] = df['peso_ini_pre_natal(kg)'].astype(float)\n",
    "df['peso_fim_pre_natal(kg)'] = df['peso_fim_pre_natal(kg)'].astype(float)\n",
    "df['dificuldade_no_pre_natal'] = df['dificuldade_no_pre_natal'].astype('string')\n",
    "df['hac'] = df['hac'].astype('string')\n",
    "df['obesidade'] = df['obesidade'].astype('string')\n",
    "df['baixo_peso'] = df['baixo_peso'].astype('string')\n",
    "df['diabetes_melitus'] = df['diabetes_melitus'].astype('string')\n",
    "df['tabagismo'] = df['tabagismo'].astype('string')\n",
    "df['doencas_cardiacas'] = df['doencas_cardiacas'].astype('string')\n",
    "df['drc'] = df['drc'].astype('string')\n",
    "df['dr'] = df['dr'].astype('string')\n",
    "df['hiv_aids'] = df['hiv_aids'].astype('string')\n",
    "df['tireoidopatias'] = df['tireoidopatias'].astype('string')\n",
    "df['lupus'] = df['lupus'].astype('string')\n",
    "df['asma'] = df['asma'].astype('string')\n",
    "df['sifilis'] = df['sifilis'].astype('string')\n",
    "df['anemia_hemoglobina_10g'] = df['anemia_hemoglobina_10g'].astype('string')\n",
    "df['itu'] = df['itu'].astype('string')\n",
    "df['pre_eclampsia'] = df['pre_eclampsia'].astype('string')\n",
    "df['eclampsia'] = df['eclampsia'].astype('string')\n",
    "df['sindrome_hellp'] = df['sindrome_hellp'].astype('string')\n",
    "df['sepse'] = df['sepse'].astype('string')\n",
    "df['trabalho_parto_prematuro'] = df['trabalho_parto_prematuro'].astype('string')\n",
    "df['hemorragia_severa'] = df['hemorragia_severa'].astype('string')\n",
    "df['uso_sulfato_magnesio'] = df['uso_sulfato_magnesio'].astype('string')\n",
    "df['internacao_uti'] = df['internacao_uti'].astype('string')\n",
    "df['transfusao_hemovariados'] = df['transfusao_hemovariados'].astype('string')\n",
    "df['rotura_prematura_membranas'] = df['rotura_prematura_membranas'].astype('string')\n",
    "df['sexo'] = df['sexo'].astype('string')\n",
    "df['classificacao_peso'] = df['classificacao_peso'].astype('string')\n",
    "df['metodo_afericao_ig'] = df['metodo_afericao_ig'].astype('string')\n",
    "df['oxigenio'] = df['oxigenio'].astype('string')"
   ]
  },
  {
   "cell_type": "code",
   "execution_count": 17,
   "id": "dc69c85e",
   "metadata": {
    "colab": {
     "base_uri": "https://localhost:8080/"
    },
    "id": "dc69c85e",
    "outputId": "a00f983e-54f6-485c-a5b8-5629ba4f8bc8"
   },
   "outputs": [
    {
     "name": "stdout",
     "output_type": "stream",
     "text": [
      "<class 'pandas.core.frame.DataFrame'>\n",
      "RangeIndex: 1092 entries, 0 to 1091\n",
      "Data columns (total 58 columns):\n",
      " #   Column                      Non-Null Count  Dtype  \n",
      "---  ------                      --------------  -----  \n",
      " 0   data                        1092 non-null   object \n",
      " 1   grupo1                      1092 non-null   string \n",
      " 2   grupo2                      1092 non-null   int64  \n",
      " 3   idade                       1092 non-null   int64  \n",
      " 4   estado_civil                1092 non-null   string \n",
      " 5   anos_de_estudo              1092 non-null   int64  \n",
      " 6   escolaridade                1092 non-null   string \n",
      " 7   renda_familiar              1092 non-null   string \n",
      " 8   ocupacao                    1092 non-null   string \n",
      " 9   ident_racial                1092 non-null   string \n",
      " 10  procedencia                 1092 non-null   string \n",
      " 11  num_gestacoes               1092 non-null   int64  \n",
      " 12  num_partos                  1092 non-null   int64  \n",
      " 13  num_abortos                 1092 non-null   int64  \n",
      " 14  num_cesarias_previas        1092 non-null   int64  \n",
      " 15  num_filhos_vivos            1092 non-null   int64  \n",
      " 16  pre_natal                   1092 non-null   string \n",
      " 17  mesma_pessoa_pre_natal      1092 non-null   string \n",
      " 18  num_consulta_prenatal       1092 non-null   int64  \n",
      " 19  igpn                        1092 non-null   float64\n",
      " 20  altura(cm)                  1092 non-null   int64  \n",
      " 21  peso_ini_pre_natal(kg)      1092 non-null   float64\n",
      " 22  peso_fim_pre_natal(kg)      1092 non-null   float64\n",
      " 23  dificuldade_no_pre_natal    1092 non-null   string \n",
      " 24  hac                         1092 non-null   string \n",
      " 25  obesidade                   1092 non-null   string \n",
      " 26  baixo_peso                  1092 non-null   string \n",
      " 27  diabetes_melitus            1092 non-null   string \n",
      " 28  tabagismo                   1092 non-null   string \n",
      " 29  doencas_cardiacas           1092 non-null   string \n",
      " 30  drc                         1092 non-null   string \n",
      " 31  dr                          1092 non-null   string \n",
      " 32  hiv_aids                    1092 non-null   string \n",
      " 33  tireoidopatias              1092 non-null   string \n",
      " 34  lupus                       1092 non-null   string \n",
      " 35  asma                        1092 non-null   string \n",
      " 36  sifilis                     1092 non-null   string \n",
      " 37  anemia_hemoglobina_10g      1092 non-null   string \n",
      " 38  itu                         1092 non-null   string \n",
      " 39  pre_eclampsia               1092 non-null   string \n",
      " 40  eclampsia                   1092 non-null   string \n",
      " 41  sindrome_hellp              1092 non-null   string \n",
      " 42  sepse                       1092 non-null   string \n",
      " 43  trabalho_parto_prematuro    1092 non-null   string \n",
      " 44  hemorragia_severa           1092 non-null   string \n",
      " 45  uso_sulfato_magnesio        1092 non-null   string \n",
      " 46  internacao_uti              1092 non-null   string \n",
      " 47  transfusao_hemovariados     1092 non-null   string \n",
      " 48  rotura_prematura_membranas  1092 non-null   string \n",
      " 49  ig_resolucao                1092 non-null   float64\n",
      " 50  sexo                        1092 non-null   string \n",
      " 51  peso(g)                     1092 non-null   int64  \n",
      " 52  classificacao_peso          1092 non-null   string \n",
      " 53  apgar_1minuto               1092 non-null   int64  \n",
      " 54  apgar_5minuto               1092 non-null   int64  \n",
      " 55  metodo_afericao_ig          1092 non-null   string \n",
      " 56  oxigenio                    1092 non-null   string \n",
      " 57  obito                       1092 non-null   int64  \n",
      "dtypes: float64(4), int64(14), object(1), string(39)\n",
      "memory usage: 494.9+ KB\n"
     ]
    }
   ],
   "source": [
    "df.info()"
   ]
  },
  {
   "cell_type": "markdown",
   "id": "olvR8A7f_48d",
   "metadata": {
    "id": "olvR8A7f_48d"
   },
   "source": [
    "A seguir, vamos deletar alguns registros da base, pois tais não entram adequadamente nas nossas análises futuras. "
   ]
  },
  {
   "cell_type": "code",
   "execution_count": 18,
   "id": "1ygPCpyY6nKH",
   "metadata": {
    "id": "1ygPCpyY6nKH"
   },
   "outputs": [],
   "source": [
    "df = df[df['procedencia'] != 'Não respondeu']\n",
    "df = df[df['hac'] != 'Ignorado']\n",
    "df = df[df['diabetes_melitus'] != 'Ignorado']\n",
    "df = df[df['tabagismo'] != 'Ignorado']\n",
    "df = df[df['sexo'] != 'IND']"
   ]
  },
  {
   "cell_type": "markdown",
   "id": "4HDetuSkgPQD",
   "metadata": {
    "id": "4HDetuSkgPQD"
   },
   "source": [
    "Por último, devemos transformar as informações da coluna *obito* para algo que possa ser melhor entendido, já que os dados dessa coluna (1 e 2) representam ocorrência ou não de óbitos.  \n",
    "\n",
    "Assim, podemos substituir 1 e 2 por 0 e 1, relacionando a **não-óbito** e a **óbito** respectivamente. \n",
    "\n",
    "Também é possível substituir 2 e 1 por **Sim** e **Não**."
   ]
  },
  {
   "cell_type": "code",
   "execution_count": 19,
   "id": "DGMjv4s8gOdQ",
   "metadata": {
    "colab": {
     "base_uri": "https://localhost:8080/"
    },
    "id": "DGMjv4s8gOdQ",
    "outputId": "0bf41897-575a-4e69-bd30-1cfec5f878a6"
   },
   "outputs": [
    {
     "data": {
      "text/plain": [
       "1    989\n",
       "0     93\n",
       "Name: obito, dtype: int64"
      ]
     },
     "execution_count": 19,
     "metadata": {},
     "output_type": "execute_result"
    }
   ],
   "source": [
    "# transformando os dados da coluna 'obito'\n",
    "df['obito'] = df['obito'].apply(lambda x: 0 if x==1 else 1)\n",
    "df['obito'].value_counts()"
   ]
  },
  {
   "cell_type": "code",
   "execution_count": 20,
   "id": "5f9bcf52",
   "metadata": {
    "id": "5f9bcf52",
    "scrolled": true
   },
   "outputs": [],
   "source": [
    "df.to_csv(path_or_buf='/home/arthur/Documentos/PET/PET - Pesquisa/base1(clean).csv', index=False)"
   ]
  },
  {
   "cell_type": "markdown",
   "id": "a47c8777-74d6-4307-b637-fb4d19391ca4",
   "metadata": {
    "id": "a47c8777-74d6-4307-b637-fb4d19391ca4"
   },
   "source": [
    "## Análise Exploratória de Dados"
   ]
  },
  {
   "cell_type": "markdown",
   "id": "9P9QbLG9sO8r",
   "metadata": {
    "id": "9P9QbLG9sO8r"
   },
   "source": [
    "### Tipos de variáveis\n",
    "\n",
    "* **Qualitativas**\n",
    "\n",
    "    * *Nominais* (34)\n",
    "        * estado_civil\n",
    "        * ocupacao\n",
    "        * ident_racial\n",
    "        * procedencia\n",
    "        * **pre_natal**\n",
    "        * mesma_pessoa_pre_natal\n",
    "        * **dificuldade_pre_natal**\n",
    "        * **hac**\n",
    "        * **obesidade**\n",
    "        * baixo_peso\n",
    "        * **diabetes_melitus**\n",
    "        * **tabagismo**\n",
    "        * **doencas_cardiacas**\n",
    "        * drc\n",
    "        * dr\n",
    "        * hiv_aids\n",
    "        * tireoidopatias\n",
    "        * lupus\n",
    "        * asma\n",
    "        * sifilis\n",
    "        * anemia_hemoglobina\n",
    "        * itu\n",
    "        * pre_eclampsia\n",
    "        * eclampsia\n",
    "        * sindrome_hellp\n",
    "        * sepse\n",
    "        * **trabalho_parto_prematuro**\n",
    "        * **hemorragia_severa**\n",
    "        * uso_sulfato_magnesio\n",
    "        * **internacao_uti**\n",
    "        * transfusao_hemovariados\n",
    "        * rotura_prematura_membranas\n",
    "        * **sexo**\n",
    "        * **oxigenio**  \n",
    "        \n",
    "    * *Ordinais* (5)\n",
    "        * grupo1\n",
    "        * escolaridade\n",
    "        * renda_familiar\n",
    "        * classificacao_peso\n",
    "        * metodo_afericao_ig\n",
    "        \n",
    "* **Quantitativas**\n",
    "\n",
    "    * *Discretas* (13)\n",
    "        * data\n",
    "        * grupo2\n",
    "        * idade\n",
    "        * anos_de_estudo\n",
    "        * num_gestacoes\n",
    "        * num_partos\n",
    "        * num_abortos\n",
    "        * num_cesarias_previas\n",
    "        * num_filhos_vivos\n",
    "        * num_consulta_prenatal\n",
    "        * **apgar_1minuto**\n",
    "        * **apgar_5minuto**\n",
    "        * obito\n",
    "        \n",
    "    * *Contínuas* (6)\n",
    "        * igpn\n",
    "        * altura(cm)\n",
    "        * peso_ini_pre_natal(kg)\n",
    "        * peso_fim_pre_natal(kg)\n",
    "        * ig_resolucao\n",
    "        * peso(g)"
   ]
  },
  {
   "cell_type": "markdown",
   "id": "f421bd13-e71c-4a8d-bf72-49c49e3de1d2",
   "metadata": {
    "id": "f421bd13-e71c-4a8d-bf72-49c49e3de1d2"
   },
   "source": [
    "Qual a média, mediana, variância e desvio-padrão da variável *idade*?"
   ]
  },
  {
   "cell_type": "code",
   "execution_count": 21,
   "id": "2b302b6c-b906-410a-8ddb-c582000b0272",
   "metadata": {
    "colab": {
     "base_uri": "https://localhost:8080/"
    },
    "id": "2b302b6c-b906-410a-8ddb-c582000b0272",
    "outputId": "8fc2edc2-1ba9-4b7f-84d0-7af4c6b06c41"
   },
   "outputs": [
    {
     "name": "stdout",
     "output_type": "stream",
     "text": [
      "count    1082.000\n",
      "mean       26.387\n",
      "std         7.236\n",
      "min        12.000\n",
      "25%        20.000\n",
      "50%        26.000\n",
      "75%        32.000\n",
      "max        48.000\n",
      "Name: idade, dtype: float64\n"
     ]
    }
   ],
   "source": [
    "print(df['idade'].describe().round(3))"
   ]
  },
  {
   "cell_type": "markdown",
   "id": "056105ed-1ed1-4eb8-a620-33fff0c51db9",
   "metadata": {
    "id": "056105ed-1ed1-4eb8-a620-33fff0c51db9"
   },
   "source": [
    "Qual a frequência do *nº de óbitos* em relação à se enfrentou ou não *dificuldade no pré-natal*?"
   ]
  },
  {
   "cell_type": "code",
   "execution_count": 22,
   "id": "99d3293f-a502-4e1c-843e-fd706edb9fad",
   "metadata": {
    "colab": {
     "base_uri": "https://localhost:8080/",
     "height": 206
    },
    "id": "99d3293f-a502-4e1c-843e-fd706edb9fad",
    "outputId": "83a8868e-d9fe-4fc6-f49f-8fd72bc886af"
   },
   "outputs": [
    {
     "data": {
      "text/html": [
       "<div>\n",
       "<style scoped>\n",
       "    .dataframe tbody tr th:only-of-type {\n",
       "        vertical-align: middle;\n",
       "    }\n",
       "\n",
       "    .dataframe tbody tr th {\n",
       "        vertical-align: top;\n",
       "    }\n",
       "\n",
       "    .dataframe thead th {\n",
       "        text-align: right;\n",
       "    }\n",
       "</style>\n",
       "<table border=\"1\" class=\"dataframe\">\n",
       "  <thead>\n",
       "    <tr style=\"text-align: right;\">\n",
       "      <th>obito</th>\n",
       "      <th>0</th>\n",
       "      <th>1</th>\n",
       "      <th>Total</th>\n",
       "    </tr>\n",
       "    <tr>\n",
       "      <th>dificuldade_no_pre_natal</th>\n",
       "      <th></th>\n",
       "      <th></th>\n",
       "      <th></th>\n",
       "    </tr>\n",
       "  </thead>\n",
       "  <tbody>\n",
       "    <tr>\n",
       "      <th>Não</th>\n",
       "      <td>21</td>\n",
       "      <td>294</td>\n",
       "      <td>315</td>\n",
       "    </tr>\n",
       "    <tr>\n",
       "      <th>Não respondeu</th>\n",
       "      <td>63</td>\n",
       "      <td>605</td>\n",
       "      <td>668</td>\n",
       "    </tr>\n",
       "    <tr>\n",
       "      <th>Sim</th>\n",
       "      <td>9</td>\n",
       "      <td>90</td>\n",
       "      <td>99</td>\n",
       "    </tr>\n",
       "    <tr>\n",
       "      <th>Total</th>\n",
       "      <td>93</td>\n",
       "      <td>989</td>\n",
       "      <td>1082</td>\n",
       "    </tr>\n",
       "  </tbody>\n",
       "</table>\n",
       "</div>"
      ],
      "text/plain": [
       "obito                      0    1  Total\n",
       "dificuldade_no_pre_natal                \n",
       "Não                       21  294    315\n",
       "Não respondeu             63  605    668\n",
       "Sim                        9   90     99\n",
       "Total                     93  989   1082"
      ]
     },
     "execution_count": 22,
     "metadata": {},
     "output_type": "execute_result"
    }
   ],
   "source": [
    "pd.crosstab(df['dificuldade_no_pre_natal'], df['obito'], margins=True, margins_name=\"Total\")"
   ]
  },
  {
   "cell_type": "markdown",
   "id": "d7d59adc-3df0-4065-b568-1e34142767fc",
   "metadata": {
    "id": "d7d59adc-3df0-4065-b568-1e34142767fc"
   },
   "source": [
    "Curiosamente, o número de óbitos foi maior dentre aqueles que **não** tiveram nenhuma dificuldade na realização do pré-natal, porém, é importante levar em consideração que muitas pessoas não responderam. "
   ]
  },
  {
   "cell_type": "code",
   "execution_count": 23,
   "id": "d4e205b7-7d97-4a8d-82b3-a5188f3c1953",
   "metadata": {
    "colab": {
     "base_uri": "https://localhost:8080/",
     "height": 386
    },
    "id": "d4e205b7-7d97-4a8d-82b3-a5188f3c1953",
    "outputId": "de8dbc94-1b86-46d3-83c6-96cb29677c88"
   },
   "outputs": [
    {
     "data": {
      "text/plain": [
       "<seaborn.axisgrid.FacetGrid at 0x7f5a1c165a30>"
      ]
     },
     "execution_count": 23,
     "metadata": {},
     "output_type": "execute_result"
    },
    {
     "data": {
      "image/png": "[encoded data removed]",
      "text/plain": [
       "<Figure size 684.361x500 with 1 Axes>"
      ]
     },
     "metadata": {},
     "output_type": "display_data"
    }
   ],
   "source": [
    "sns.catplot(data=df, x='obito', hue='dificuldade_no_pre_natal', kind='count')"
   ]
  },
  {
   "cell_type": "markdown",
   "id": "e562ed93-86a3-4fd8-ad10-8ffea5c938cb",
   "metadata": {
    "id": "e562ed93-86a3-4fd8-ad10-8ffea5c938cb"
   },
   "source": [
    "Qual a frequência das variáveis *escolaridade* e *renda_familiar*?"
   ]
  },
  {
   "cell_type": "code",
   "execution_count": 24,
   "id": "3ba4199e-6f09-4b04-8f79-00bc2e8fd0d7",
   "metadata": {
    "colab": {
     "base_uri": "https://localhost:8080/"
    },
    "id": "3ba4199e-6f09-4b04-8f79-00bc2e8fd0d7",
    "outputId": "72895c43-33c1-41f8-eee3-54f6a97e5709"
   },
   "outputs": [
    {
     "name": "stdout",
     "output_type": "stream",
     "text": [
      "Frequência de 'escolaridade': \n",
      "\n",
      "Ensino médio                     324\n",
      "Ensino fundamental incompleto    312\n",
      "Ensino médio incompleto          212\n",
      "Ensino fundamental               115\n",
      "Ensino superior                   65\n",
      "Ensino superior incompleto        38\n",
      "Analfabeta                        15\n",
      "Não respondeu                      1\n",
      "Name: escolaridade, dtype: Int64\n",
      "\n",
      "Frequência de 'renda_familiar': \n",
      "\n",
      "Não respondeu                  656\n",
      "Um salário mínimo              199\n",
      "Maior que um salário mínimo    131\n",
      "Menor que um salário mínimo     96\n",
      "Name: renda_familiar, dtype: Int64\n"
     ]
    }
   ],
   "source": [
    "print('Frequência de \\'escolaridade\\': \\n')\n",
    "print(df['escolaridade'].value_counts())\n",
    "\n",
    "print('\\nFrequência de \\'renda_familiar\\': \\n')\n",
    "print(df['renda_familiar'].value_counts())"
   ]
  },
  {
   "cell_type": "markdown",
   "id": "b8d49225-0acf-4b20-9e20-b1e873f7efb2",
   "metadata": {
    "id": "b8d49225-0acf-4b20-9e20-b1e873f7efb2"
   },
   "source": [
    "Agora, vamos fazer um **agrupamento por _ocupacao_** e em seguida somar a quantidade de óbitos para cada ocupação.  \n",
    "Iremos ainda, ordenar o dataframe por **ordem decrescente** do nº de óbitos."
   ]
  },
  {
   "cell_type": "code",
   "execution_count": 25,
   "id": "8e079a34-0d44-4e2b-a75a-fd610aea014a",
   "metadata": {
    "colab": {
     "base_uri": "https://localhost:8080/",
     "height": 363
    },
    "id": "8e079a34-0d44-4e2b-a75a-fd610aea014a",
    "outputId": "e38158a1-f3e0-4085-dee0-abdf37646609"
   },
   "outputs": [
    {
     "data": {
      "text/html": [
       "<div>\n",
       "<style scoped>\n",
       "    .dataframe tbody tr th:only-of-type {\n",
       "        vertical-align: middle;\n",
       "    }\n",
       "\n",
       "    .dataframe tbody tr th {\n",
       "        vertical-align: top;\n",
       "    }\n",
       "\n",
       "    .dataframe thead th {\n",
       "        text-align: right;\n",
       "    }\n",
       "</style>\n",
       "<table border=\"1\" class=\"dataframe\">\n",
       "  <thead>\n",
       "    <tr style=\"text-align: right;\">\n",
       "      <th></th>\n",
       "      <th>ocupacao</th>\n",
       "      <th>obito</th>\n",
       "    </tr>\n",
       "  </thead>\n",
       "  <tbody>\n",
       "    <tr>\n",
       "      <th>58</th>\n",
       "      <td>não trabalha</td>\n",
       "      <td>600</td>\n",
       "    </tr>\n",
       "    <tr>\n",
       "      <th>34</th>\n",
       "      <td>costureira</td>\n",
       "      <td>63</td>\n",
       "    </tr>\n",
       "    <tr>\n",
       "      <th>5</th>\n",
       "      <td>agricultora</td>\n",
       "      <td>36</td>\n",
       "    </tr>\n",
       "    <tr>\n",
       "      <th>77</th>\n",
       "      <td>vendedora</td>\n",
       "      <td>27</td>\n",
       "    </tr>\n",
       "    <tr>\n",
       "      <th>63</th>\n",
       "      <td>professora</td>\n",
       "      <td>23</td>\n",
       "    </tr>\n",
       "    <tr>\n",
       "      <th>10</th>\n",
       "      <td>autônoma</td>\n",
       "      <td>19</td>\n",
       "    </tr>\n",
       "    <tr>\n",
       "      <th>24</th>\n",
       "      <td>caixa</td>\n",
       "      <td>16</td>\n",
       "    </tr>\n",
       "    <tr>\n",
       "      <th>9</th>\n",
       "      <td>atendente</td>\n",
       "      <td>15</td>\n",
       "    </tr>\n",
       "    <tr>\n",
       "      <th>40</th>\n",
       "      <td>doméstica</td>\n",
       "      <td>14</td>\n",
       "    </tr>\n",
       "    <tr>\n",
       "      <th>23</th>\n",
       "      <td>cabeleireira</td>\n",
       "      <td>12</td>\n",
       "    </tr>\n",
       "  </tbody>\n",
       "</table>\n",
       "</div>"
      ],
      "text/plain": [
       "        ocupacao  obito\n",
       "58  não trabalha    600\n",
       "34    costureira     63\n",
       "5    agricultora     36\n",
       "77     vendedora     27\n",
       "63    professora     23\n",
       "10      autônoma     19\n",
       "24         caixa     16\n",
       "9      atendente     15\n",
       "40     doméstica     14\n",
       "23  cabeleireira     12"
      ]
     },
     "execution_count": 25,
     "metadata": {},
     "output_type": "execute_result"
    }
   ],
   "source": [
    "df.groupby('ocupacao', as_index=False)['obito'].sum().sort_values(by='obito', ascending=False).head(10)"
   ]
  },
  {
   "cell_type": "markdown",
   "id": "b36d38c8-e901-4833-8c31-7212a6b68b07",
   "metadata": {
    "id": "b36d38c8-e901-4833-8c31-7212a6b68b07"
   },
   "source": [
    "Logo, é possível ver que o número de perdas de bebês é quase 10x maior entre desempregados, em comparação com as outras 82 profissões registradas na base. "
   ]
  },
  {
   "cell_type": "markdown",
   "id": "88cc268a-19ef-4479-b82c-0ac4a9c97bf7",
   "metadata": {
    "id": "88cc268a-19ef-4479-b82c-0ac4a9c97bf7"
   },
   "source": [
    "Criaremos um dataframe contendo algumas varíaveis para em seguida encontrar suas **medidas descritivas**.  "
   ]
  },
  {
   "cell_type": "code",
   "execution_count": 26,
   "id": "a21e5161-40b4-4d25-9d15-dcfef10fa2fc",
   "metadata": {
    "colab": {
     "base_uri": "https://localhost:8080/",
     "height": 300
    },
    "id": "a21e5161-40b4-4d25-9d15-dcfef10fa2fc",
    "outputId": "ef5e8d19-e3b1-4917-d4ae-f5bf00bb01b7"
   },
   "outputs": [
    {
     "data": {
      "text/html": [
       "<div>\n",
       "<style scoped>\n",
       "    .dataframe tbody tr th:only-of-type {\n",
       "        vertical-align: middle;\n",
       "    }\n",
       "\n",
       "    .dataframe tbody tr th {\n",
       "        vertical-align: top;\n",
       "    }\n",
       "\n",
       "    .dataframe thead th {\n",
       "        text-align: right;\n",
       "    }\n",
       "</style>\n",
       "<table border=\"1\" class=\"dataframe\">\n",
       "  <thead>\n",
       "    <tr style=\"text-align: right;\">\n",
       "      <th></th>\n",
       "      <th>num_gestacoes</th>\n",
       "      <th>num_partos</th>\n",
       "      <th>num_abortos</th>\n",
       "      <th>num_cesarias_previas</th>\n",
       "      <th>num_filhos_vivos</th>\n",
       "    </tr>\n",
       "  </thead>\n",
       "  <tbody>\n",
       "    <tr>\n",
       "      <th>count</th>\n",
       "      <td>1082.000</td>\n",
       "      <td>1082.000</td>\n",
       "      <td>1082.000</td>\n",
       "      <td>1082.000</td>\n",
       "      <td>1082.000</td>\n",
       "    </tr>\n",
       "    <tr>\n",
       "      <th>mean</th>\n",
       "      <td>2.323</td>\n",
       "      <td>1.005</td>\n",
       "      <td>0.322</td>\n",
       "      <td>0.307</td>\n",
       "      <td>0.990</td>\n",
       "    </tr>\n",
       "    <tr>\n",
       "      <th>std</th>\n",
       "      <td>1.609</td>\n",
       "      <td>1.303</td>\n",
       "      <td>0.741</td>\n",
       "      <td>0.652</td>\n",
       "      <td>1.293</td>\n",
       "    </tr>\n",
       "    <tr>\n",
       "      <th>min</th>\n",
       "      <td>1.000</td>\n",
       "      <td>0.000</td>\n",
       "      <td>0.000</td>\n",
       "      <td>0.000</td>\n",
       "      <td>0.000</td>\n",
       "    </tr>\n",
       "    <tr>\n",
       "      <th>25%</th>\n",
       "      <td>1.000</td>\n",
       "      <td>0.000</td>\n",
       "      <td>0.000</td>\n",
       "      <td>0.000</td>\n",
       "      <td>0.000</td>\n",
       "    </tr>\n",
       "    <tr>\n",
       "      <th>50%</th>\n",
       "      <td>2.000</td>\n",
       "      <td>1.000</td>\n",
       "      <td>0.000</td>\n",
       "      <td>0.000</td>\n",
       "      <td>1.000</td>\n",
       "    </tr>\n",
       "    <tr>\n",
       "      <th>75%</th>\n",
       "      <td>3.000</td>\n",
       "      <td>2.000</td>\n",
       "      <td>0.000</td>\n",
       "      <td>0.000</td>\n",
       "      <td>2.000</td>\n",
       "    </tr>\n",
       "    <tr>\n",
       "      <th>max</th>\n",
       "      <td>17.000</td>\n",
       "      <td>12.000</td>\n",
       "      <td>10.000</td>\n",
       "      <td>4.000</td>\n",
       "      <td>12.000</td>\n",
       "    </tr>\n",
       "  </tbody>\n",
       "</table>\n",
       "</div>"
      ],
      "text/plain": [
       "       num_gestacoes  num_partos  num_abortos  num_cesarias_previas  \\\n",
       "count       1082.000    1082.000     1082.000              1082.000   \n",
       "mean           2.323       1.005        0.322                 0.307   \n",
       "std            1.609       1.303        0.741                 0.652   \n",
       "min            1.000       0.000        0.000                 0.000   \n",
       "25%            1.000       0.000        0.000                 0.000   \n",
       "50%            2.000       1.000        0.000                 0.000   \n",
       "75%            3.000       2.000        0.000                 0.000   \n",
       "max           17.000      12.000       10.000                 4.000   \n",
       "\n",
       "       num_filhos_vivos  \n",
       "count          1082.000  \n",
       "mean              0.990  \n",
       "std               1.293  \n",
       "min               0.000  \n",
       "25%               0.000  \n",
       "50%               1.000  \n",
       "75%               2.000  \n",
       "max              12.000  "
      ]
     },
     "execution_count": 26,
     "metadata": {},
     "output_type": "execute_result"
    }
   ],
   "source": [
    "df2 = df[['num_gestacoes', 'num_partos', 'num_abortos', 'num_cesarias_previas', 'num_filhos_vivos']]\n",
    "df2.describe(include='all').round(3)"
   ]
  },
  {
   "cell_type": "markdown",
   "id": "b444f91c-7951-410d-8329-0e8eeff4d2bc",
   "metadata": {
    "id": "b444f91c-7951-410d-8329-0e8eeff4d2bc"
   },
   "source": [
    "A seguir, construímos tabelas de dupla entrada entre possíveis variáveis relacionadas a *obito*:"
   ]
  },
  {
   "cell_type": "code",
   "execution_count": 27,
   "id": "f6324636-0a66-4b52-82d8-b78f52f06df5",
   "metadata": {
    "colab": {
     "base_uri": "https://localhost:8080/",
     "height": 143
    },
    "id": "f6324636-0a66-4b52-82d8-b78f52f06df5",
    "outputId": "a9d1b7b9-9530-40e8-f704-f9b1ce018709"
   },
   "outputs": [
    {
     "data": {
      "text/html": [
       "<div>\n",
       "<style scoped>\n",
       "    .dataframe tbody tr th:only-of-type {\n",
       "        vertical-align: middle;\n",
       "    }\n",
       "\n",
       "    .dataframe tbody tr th {\n",
       "        vertical-align: top;\n",
       "    }\n",
       "\n",
       "    .dataframe thead th {\n",
       "        text-align: right;\n",
       "    }\n",
       "</style>\n",
       "<table border=\"1\" class=\"dataframe\">\n",
       "  <thead>\n",
       "    <tr style=\"text-align: right;\">\n",
       "      <th>obito</th>\n",
       "      <th>0</th>\n",
       "      <th>1</th>\n",
       "    </tr>\n",
       "    <tr>\n",
       "      <th>oxigenio</th>\n",
       "      <th></th>\n",
       "      <th></th>\n",
       "    </tr>\n",
       "  </thead>\n",
       "  <tbody>\n",
       "    <tr>\n",
       "      <th>Não</th>\n",
       "      <td>0</td>\n",
       "      <td>592</td>\n",
       "    </tr>\n",
       "    <tr>\n",
       "      <th>Sim</th>\n",
       "      <td>93</td>\n",
       "      <td>397</td>\n",
       "    </tr>\n",
       "  </tbody>\n",
       "</table>\n",
       "</div>"
      ],
      "text/plain": [
       "obito      0    1\n",
       "oxigenio         \n",
       "Não        0  592\n",
       "Sim       93  397"
      ]
     },
     "execution_count": 27,
     "metadata": {},
     "output_type": "execute_result"
    }
   ],
   "source": [
    "pd.crosstab(df.oxigenio, df.obito)"
   ]
  },
  {
   "cell_type": "code",
   "execution_count": 28,
   "id": "2653f75e-ca4a-4348-9398-2b19f753987a",
   "metadata": {
    "colab": {
     "base_uri": "https://localhost:8080/",
     "height": 206
    },
    "id": "2653f75e-ca4a-4348-9398-2b19f753987a",
    "outputId": "b62d5848-27a1-46ff-a59b-4c7700cb145c"
   },
   "outputs": [
    {
     "data": {
      "text/html": [
       "<div>\n",
       "<style scoped>\n",
       "    .dataframe tbody tr th:only-of-type {\n",
       "        vertical-align: middle;\n",
       "    }\n",
       "\n",
       "    .dataframe tbody tr th {\n",
       "        vertical-align: top;\n",
       "    }\n",
       "\n",
       "    .dataframe thead tr th {\n",
       "        text-align: left;\n",
       "    }\n",
       "\n",
       "    .dataframe thead tr:last-of-type th {\n",
       "        text-align: right;\n",
       "    }\n",
       "</style>\n",
       "<table border=\"1\" class=\"dataframe\">\n",
       "  <thead>\n",
       "    <tr>\n",
       "      <th>classificacao_peso</th>\n",
       "      <th colspan=\"2\" halign=\"left\">AIG</th>\n",
       "      <th colspan=\"2\" halign=\"left\">GIG</th>\n",
       "      <th colspan=\"2\" halign=\"left\">PIG</th>\n",
       "      <th>Total</th>\n",
       "    </tr>\n",
       "    <tr>\n",
       "      <th>internacao_uti</th>\n",
       "      <th>Não</th>\n",
       "      <th>Sim</th>\n",
       "      <th>Não</th>\n",
       "      <th>Sim</th>\n",
       "      <th>Não</th>\n",
       "      <th>Sim</th>\n",
       "      <th></th>\n",
       "    </tr>\n",
       "    <tr>\n",
       "      <th>obito</th>\n",
       "      <th></th>\n",
       "      <th></th>\n",
       "      <th></th>\n",
       "      <th></th>\n",
       "      <th></th>\n",
       "      <th></th>\n",
       "      <th></th>\n",
       "    </tr>\n",
       "  </thead>\n",
       "  <tbody>\n",
       "    <tr>\n",
       "      <th>0</th>\n",
       "      <td>65</td>\n",
       "      <td>4</td>\n",
       "      <td>1</td>\n",
       "      <td>0</td>\n",
       "      <td>23</td>\n",
       "      <td>0</td>\n",
       "      <td>93</td>\n",
       "    </tr>\n",
       "    <tr>\n",
       "      <th>1</th>\n",
       "      <td>763</td>\n",
       "      <td>23</td>\n",
       "      <td>91</td>\n",
       "      <td>1</td>\n",
       "      <td>98</td>\n",
       "      <td>13</td>\n",
       "      <td>989</td>\n",
       "    </tr>\n",
       "    <tr>\n",
       "      <th>Total</th>\n",
       "      <td>828</td>\n",
       "      <td>27</td>\n",
       "      <td>92</td>\n",
       "      <td>1</td>\n",
       "      <td>121</td>\n",
       "      <td>13</td>\n",
       "      <td>1082</td>\n",
       "    </tr>\n",
       "  </tbody>\n",
       "</table>\n",
       "</div>"
      ],
      "text/plain": [
       "classificacao_peso AIG       GIG       PIG       Total\n",
       "internacao_uti       Não Sim   Não Sim   Não Sim      \n",
       "obito                                                 \n",
       "0                     65   4     1   0    23   0    93\n",
       "1                    763  23    91   1    98  13   989\n",
       "Total                828  27    92   1   121  13  1082"
      ]
     },
     "execution_count": 28,
     "metadata": {},
     "output_type": "execute_result"
    }
   ],
   "source": [
    "pd.crosstab(df.obito, [df.classificacao_peso, df.internacao_uti], margins_name=\"Total\", margins=True)"
   ]
  },
  {
   "cell_type": "code",
   "execution_count": 29,
   "id": "HxCfRtXFMhCa",
   "metadata": {
    "colab": {
     "base_uri": "https://localhost:8080/",
     "height": 143
    },
    "id": "HxCfRtXFMhCa",
    "outputId": "8e39b8e7-964b-4d12-b60b-ca1b786d3972"
   },
   "outputs": [
    {
     "data": {
      "text/html": [
       "<div>\n",
       "<style scoped>\n",
       "    .dataframe tbody tr th:only-of-type {\n",
       "        vertical-align: middle;\n",
       "    }\n",
       "\n",
       "    .dataframe tbody tr th {\n",
       "        vertical-align: top;\n",
       "    }\n",
       "\n",
       "    .dataframe thead th {\n",
       "        text-align: right;\n",
       "    }\n",
       "</style>\n",
       "<table border=\"1\" class=\"dataframe\">\n",
       "  <thead>\n",
       "    <tr style=\"text-align: right;\">\n",
       "      <th>obito</th>\n",
       "      <th>0</th>\n",
       "      <th>1</th>\n",
       "    </tr>\n",
       "    <tr>\n",
       "      <th>sepse</th>\n",
       "      <th></th>\n",
       "      <th></th>\n",
       "    </tr>\n",
       "  </thead>\n",
       "  <tbody>\n",
       "    <tr>\n",
       "      <th>Não</th>\n",
       "      <td>92</td>\n",
       "      <td>988</td>\n",
       "    </tr>\n",
       "    <tr>\n",
       "      <th>Sim</th>\n",
       "      <td>1</td>\n",
       "      <td>1</td>\n",
       "    </tr>\n",
       "  </tbody>\n",
       "</table>\n",
       "</div>"
      ],
      "text/plain": [
       "obito   0    1\n",
       "sepse         \n",
       "Não    92  988\n",
       "Sim     1    1"
      ]
     },
     "execution_count": 29,
     "metadata": {},
     "output_type": "execute_result"
    }
   ],
   "source": [
    "pd.crosstab(df['sepse'], df['obito'])"
   ]
  },
  {
   "cell_type": "code",
   "execution_count": 30,
   "id": "djKSzbOEnJFR",
   "metadata": {
    "colab": {
     "base_uri": "https://localhost:8080/",
     "height": 175
    },
    "id": "djKSzbOEnJFR",
    "outputId": "e5a49a3f-11b9-4fe0-a374-22c4c052726f"
   },
   "outputs": [
    {
     "data": {
      "text/html": [
       "<div>\n",
       "<style scoped>\n",
       "    .dataframe tbody tr th:only-of-type {\n",
       "        vertical-align: middle;\n",
       "    }\n",
       "\n",
       "    .dataframe tbody tr th {\n",
       "        vertical-align: top;\n",
       "    }\n",
       "\n",
       "    .dataframe thead th {\n",
       "        text-align: right;\n",
       "    }\n",
       "</style>\n",
       "<table border=\"1\" class=\"dataframe\">\n",
       "  <thead>\n",
       "    <tr style=\"text-align: right;\">\n",
       "      <th>obito</th>\n",
       "      <th>0</th>\n",
       "      <th>1</th>\n",
       "    </tr>\n",
       "    <tr>\n",
       "      <th>obesidade</th>\n",
       "      <th></th>\n",
       "      <th></th>\n",
       "    </tr>\n",
       "  </thead>\n",
       "  <tbody>\n",
       "    <tr>\n",
       "      <th>Ignorado</th>\n",
       "      <td>6</td>\n",
       "      <td>63</td>\n",
       "    </tr>\n",
       "    <tr>\n",
       "      <th>Não</th>\n",
       "      <td>72</td>\n",
       "      <td>772</td>\n",
       "    </tr>\n",
       "    <tr>\n",
       "      <th>Sim</th>\n",
       "      <td>15</td>\n",
       "      <td>154</td>\n",
       "    </tr>\n",
       "  </tbody>\n",
       "</table>\n",
       "</div>"
      ],
      "text/plain": [
       "obito       0    1\n",
       "obesidade         \n",
       "Ignorado    6   63\n",
       "Não        72  772\n",
       "Sim        15  154"
      ]
     },
     "execution_count": 30,
     "metadata": {},
     "output_type": "execute_result"
    }
   ],
   "source": [
    "pd.crosstab(df['obesidade'], df['obito'])"
   ]
  },
  {
   "cell_type": "code",
   "execution_count": 31,
   "id": "eoJ0jXRanRn-",
   "metadata": {
    "colab": {
     "base_uri": "https://localhost:8080/",
     "height": 143
    },
    "id": "eoJ0jXRanRn-",
    "outputId": "a760ea04-91b1-4397-b822-e4c6f9d13d24"
   },
   "outputs": [
    {
     "data": {
      "text/html": [
       "<div>\n",
       "<style scoped>\n",
       "    .dataframe tbody tr th:only-of-type {\n",
       "        vertical-align: middle;\n",
       "    }\n",
       "\n",
       "    .dataframe tbody tr th {\n",
       "        vertical-align: top;\n",
       "    }\n",
       "\n",
       "    .dataframe thead th {\n",
       "        text-align: right;\n",
       "    }\n",
       "</style>\n",
       "<table border=\"1\" class=\"dataframe\">\n",
       "  <thead>\n",
       "    <tr style=\"text-align: right;\">\n",
       "      <th>obito</th>\n",
       "      <th>0</th>\n",
       "      <th>1</th>\n",
       "    </tr>\n",
       "    <tr>\n",
       "      <th>sexo</th>\n",
       "      <th></th>\n",
       "      <th></th>\n",
       "    </tr>\n",
       "  </thead>\n",
       "  <tbody>\n",
       "    <tr>\n",
       "      <th>F</th>\n",
       "      <td>40</td>\n",
       "      <td>496</td>\n",
       "    </tr>\n",
       "    <tr>\n",
       "      <th>M</th>\n",
       "      <td>53</td>\n",
       "      <td>493</td>\n",
       "    </tr>\n",
       "  </tbody>\n",
       "</table>\n",
       "</div>"
      ],
      "text/plain": [
       "obito   0    1\n",
       "sexo          \n",
       "F      40  496\n",
       "M      53  493"
      ]
     },
     "execution_count": 31,
     "metadata": {},
     "output_type": "execute_result"
    }
   ],
   "source": [
    "pd.crosstab(df['sexo'], df['obito'])"
   ]
  },
  {
   "cell_type": "code",
   "execution_count": 32,
   "id": "fgRpMWC5RQYO",
   "metadata": {
    "colab": {
     "base_uri": "https://localhost:8080/",
     "height": 394
    },
    "id": "fgRpMWC5RQYO",
    "outputId": "3ac9699d-4e27-49f4-82f3-8bf63668da10"
   },
   "outputs": [
    {
     "data": {
      "text/html": [
       "<div>\n",
       "<style scoped>\n",
       "    .dataframe tbody tr th:only-of-type {\n",
       "        vertical-align: middle;\n",
       "    }\n",
       "\n",
       "    .dataframe tbody tr th {\n",
       "        vertical-align: top;\n",
       "    }\n",
       "\n",
       "    .dataframe thead th {\n",
       "        text-align: right;\n",
       "    }\n",
       "</style>\n",
       "<table border=\"1\" class=\"dataframe\">\n",
       "  <thead>\n",
       "    <tr style=\"text-align: right;\">\n",
       "      <th>obito</th>\n",
       "      <th>0</th>\n",
       "      <th>1</th>\n",
       "    </tr>\n",
       "    <tr>\n",
       "      <th>apgar_5minuto</th>\n",
       "      <th></th>\n",
       "      <th></th>\n",
       "    </tr>\n",
       "  </thead>\n",
       "  <tbody>\n",
       "    <tr>\n",
       "      <th>1</th>\n",
       "      <td>4</td>\n",
       "      <td>0</td>\n",
       "    </tr>\n",
       "    <tr>\n",
       "      <th>2</th>\n",
       "      <td>2</td>\n",
       "      <td>1</td>\n",
       "    </tr>\n",
       "    <tr>\n",
       "      <th>3</th>\n",
       "      <td>4</td>\n",
       "      <td>3</td>\n",
       "    </tr>\n",
       "    <tr>\n",
       "      <th>4</th>\n",
       "      <td>7</td>\n",
       "      <td>10</td>\n",
       "    </tr>\n",
       "    <tr>\n",
       "      <th>5</th>\n",
       "      <td>12</td>\n",
       "      <td>11</td>\n",
       "    </tr>\n",
       "    <tr>\n",
       "      <th>6</th>\n",
       "      <td>18</td>\n",
       "      <td>28</td>\n",
       "    </tr>\n",
       "    <tr>\n",
       "      <th>7</th>\n",
       "      <td>16</td>\n",
       "      <td>45</td>\n",
       "    </tr>\n",
       "    <tr>\n",
       "      <th>8</th>\n",
       "      <td>18</td>\n",
       "      <td>161</td>\n",
       "    </tr>\n",
       "    <tr>\n",
       "      <th>9</th>\n",
       "      <td>12</td>\n",
       "      <td>685</td>\n",
       "    </tr>\n",
       "    <tr>\n",
       "      <th>10</th>\n",
       "      <td>0</td>\n",
       "      <td>45</td>\n",
       "    </tr>\n",
       "  </tbody>\n",
       "</table>\n",
       "</div>"
      ],
      "text/plain": [
       "obito           0    1\n",
       "apgar_5minuto         \n",
       "1               4    0\n",
       "2               2    1\n",
       "3               4    3\n",
       "4               7   10\n",
       "5              12   11\n",
       "6              18   28\n",
       "7              16   45\n",
       "8              18  161\n",
       "9              12  685\n",
       "10              0   45"
      ]
     },
     "execution_count": 32,
     "metadata": {},
     "output_type": "execute_result"
    }
   ],
   "source": [
    "pd.crosstab(df['apgar_5minuto'], df['obito'])"
   ]
  },
  {
   "cell_type": "markdown",
   "id": "XORzob-XRz-z",
   "metadata": {
    "id": "XORzob-XRz-z"
   },
   "source": [
    "### Testes Chi-quadrado e Exato de Fisher\n",
    "\n",
    "Dado o cenário geral e os tipos de variáveis que temos em mãos, torna-se necessário fazer a aplicação dos testes estatísticos *Qui-quadrado* ou *exato de Fisher*. A seguir, mostramos a fórmula matemática para essas duas medidas, bem como o significado de cada uma delas:\n",
    "\n",
    "1. *Qui-quadrado*: \n",
    "\n",
    "  1. $ χ^2 = \\sum_{i=1}^{r}\\sum_{j=1}^{s}{\\frac{(n_{ij}-e_{ij})^2}{e_{ij}}}$, onde $e_{ij}$ é a frequência esperada da categoria *i* da variável X e da categoria *j* da variável Y; \n",
    "\n",
    "  2. Para uma maior precisão da $χ^2$, utiliza-se o *coeficiente de contingência de Pearson*, de seguinte expressão: $C = \\sqrt{\\frac{χ^2}{χ^{2}+n}} $, sendo $n$ o número total de observações;\n",
    "\n",
    "  3. Essas estatísticas nos permitem identifcar o grau de **associação** entre duas variáveis **qualitativas**, ou seja, indica o grau de comportamento conjunto de duas varíaveis.\n",
    "\n",
    "\n",
    "2. *Teste exato de Fisher*:\n",
    "\n",
    "  1. De maneira similar ao teste *qui-quadrado*, o teste exato de Fisher nos permite testar se exite ou não independência entre duas variáveis nominais em uma tabela de contingência 2x2, sendo $H_{0}$ = as variáveis são independentes, e $H_{1}$ = as variáveis **não** são independentes;\n",
    "\n",
    "  2. O teste leva a uma **distribuição hipergeométrica** dos números, generalizada por: $ p_{k} = \\frac{\\binom{r}{k}\\binom{N - r}{n - k}}{\\binom{N}{n}}$.\n"
   ]
  },
  {
   "cell_type": "markdown",
   "id": "8lZRQCoXsmuw",
   "metadata": {
    "id": "8lZRQCoXsmuw"
   },
   "source": [
    "Iremos implementar essas estatísticas entre algumas variáveis e a variável *Óbito* através da biblioteca **scipy.stats**.\n",
    "\n",
    "Confira a documentação:\n",
    "\n",
    "* [Chi-quadrado](https://docs.scipy.org/doc/scipy/reference/generated/scipy.stats.chi2_contingency.html)\n",
    "* [Teste exato de Fisher](https://docs.scipy.org/doc/scipy/reference/generated/scipy.stats.fisher_exact.html)"
   ]
  },
  {
   "cell_type": "code",
   "execution_count": 33,
   "id": "oVvqnDZBlYfe",
   "metadata": {
    "id": "oVvqnDZBlYfe"
   },
   "outputs": [],
   "source": [
    "from scipy import stats"
   ]
  },
  {
   "cell_type": "code",
   "execution_count": 34,
   "id": "l8DFy-0ruTHE",
   "metadata": {
    "id": "l8DFy-0ruTHE"
   },
   "outputs": [],
   "source": [
    "# escolhendo algumas colunas e em seguida\n",
    "# usando list comprehension para agrupar os resultados\n",
    "\n",
    "variables = list(['procedencia', 'pre_natal', 'hac', 'diabetes_melitus', 'tabagismo', 'eclampsia', 'sindrome_hellp', 'trabalho_parto_prematuro', 'internacao_uti', 'sexo', 'oxigenio'])\n",
    "chi_tests = [stats.chi2_contingency(observed=pd.crosstab(df[x], df['obito'])) for x in variables]\n",
    "# chi_tests"
   ]
  },
  {
   "cell_type": "code",
   "execution_count": 35,
   "id": "bdXWy9Z5yOMR",
   "metadata": {
    "id": "bdXWy9Z5yOMR"
   },
   "outputs": [],
   "source": [
    "# repetiremos o código acima para o teste exato de Fisher\n",
    "# lembrando que a tabela deve ser 2x2\n",
    "\n",
    "# variables2 = list(['oxigenio', 'sepse', 'internacao_uti'])\n",
    "fisher_exact_tests = [stats.fisher_exact(pd.crosstab(df[x], df['obito'])) for x in variables]\n",
    "# fisher_exact_tests"
   ]
  },
  {
   "cell_type": "code",
   "execution_count": 36,
   "id": "ODIVdHdBljs2",
   "metadata": {
    "colab": {
     "base_uri": "https://localhost:8080/"
    },
    "id": "ODIVdHdBljs2",
    "outputId": "7c6db57d-d36d-4e07-d2ef-0f9fcabb0aec"
   },
   "outputs": [
    {
     "data": {
      "text/plain": [
       "(0.14508671422011077,\n",
       " 0.7032755976326588,\n",
       " 1,\n",
       " array([[ 91.88262477, 977.11737523],\n",
       "        [  1.11737523,  11.88262477]]))"
      ]
     },
     "execution_count": 36,
     "metadata": {},
     "output_type": "execute_result"
    }
   ],
   "source": [
    "stats.chi2_contingency(observed=pd.crosstab(df['eclampsia'], df['obito']))"
   ]
  },
  {
   "cell_type": "code",
   "execution_count": 37,
   "id": "IgiHhOZt6a8b",
   "metadata": {
    "colab": {
     "base_uri": "https://localhost:8080/"
    },
    "id": "IgiHhOZt6a8b",
    "outputId": "f67f8186-e5d0-4b32-c6de-7973da000eaa"
   },
   "outputs": [
    {
     "data": {
      "text/plain": [
       "(0.8647584033613446, 0.774136348853917)"
      ]
     },
     "execution_count": 37,
     "metadata": {},
     "output_type": "execute_result"
    }
   ],
   "source": [
    "stats.fisher_exact(pd.crosstab(df['internacao_uti'], df['obito']))"
   ]
  },
  {
   "cell_type": "code",
   "execution_count": 38,
   "id": "tXsPNvUj4kFA",
   "metadata": {
    "colab": {
     "base_uri": "https://localhost:8080/"
    },
    "id": "tXsPNvUj4kFA",
    "outputId": "a5afd0df-109f-4480-9640-900eb34a5fd9"
   },
   "outputs": [
    {
     "name": "stdout",
     "output_type": "stream",
     "text": [
      "| procedencia   |   0 |   1 |\n",
      "|:--------------|----:|----:|\n",
      "| Capital e RM  |  72 | 835 |\n",
      "| Interior      |  21 | 154 |\n",
      "\n",
      "---\n",
      "\n",
      "| pre_natal   |   0 |   1 |\n",
      "|:------------|----:|----:|\n",
      "| Não         |   7 |  41 |\n",
      "| Sim         |  86 | 948 |\n",
      "\n",
      "---\n",
      "\n",
      "| hac   |   0 |   1 |\n",
      "|:------|----:|----:|\n",
      "| Não   |  82 | 899 |\n",
      "| Sim   |  11 |  90 |\n",
      "\n",
      "---\n",
      "\n",
      "| diabetes_melitus   |   0 |   1 |\n",
      "|:-------------------|----:|----:|\n",
      "| Não                |  92 | 950 |\n",
      "| Sim                |   1 |  39 |\n",
      "\n",
      "---\n",
      "\n",
      "| tabagismo   |   0 |   1 |\n",
      "|:------------|----:|----:|\n",
      "| Não         |  83 | 934 |\n",
      "| Sim         |  10 |  55 |\n",
      "\n",
      "---\n",
      "\n",
      "| eclampsia   |   0 |   1 |\n",
      "|:------------|----:|----:|\n",
      "| Não         |  91 | 978 |\n",
      "| Sim         |   2 |  11 |\n",
      "\n",
      "---\n",
      "\n",
      "| sindrome_hellp   |   0 |   1 |\n",
      "|:-----------------|----:|----:|\n",
      "| Não              |  89 | 962 |\n",
      "| Sim              |   4 |  27 |\n",
      "\n",
      "---\n",
      "\n",
      "| trabalho_parto_prematuro   |   0 |   1 |\n",
      "|:---------------------------|----:|----:|\n",
      "| Não                        |  13 | 631 |\n",
      "| Sim                        |  80 | 358 |\n",
      "\n",
      "---\n",
      "\n",
      "| internacao_uti   |   0 |   1 |\n",
      "|:-----------------|----:|----:|\n",
      "| Não              |  89 | 952 |\n",
      "| Sim              |   4 |  37 |\n",
      "\n",
      "---\n",
      "\n",
      "| sexo   |   0 |   1 |\n",
      "|:-------|----:|----:|\n",
      "| F      |  40 | 496 |\n",
      "| M      |  53 | 493 |\n",
      "\n",
      "---\n",
      "\n",
      "| oxigenio   |   0 |   1 |\n",
      "|:-----------|----:|----:|\n",
      "| Não        |   0 | 592 |\n",
      "| Sim        |  93 | 397 |\n",
      "\n",
      "---\n",
      "\n"
     ]
    }
   ],
   "source": [
    "vars = ['procedencia', 'pre_natal', 'hac', 'diabetes_melitus', 'tabagismo', 'eclampsia', 'sindrome_hellp', 'trabalho_parto_prematuro', 'internacao_uti', 'sexo', 'oxigenio']\n",
    "\n",
    "for i in variables:\n",
    "  print(pd.crosstab(df[i], df['obito']).to_markdown())\n",
    "  print(\"\\n---\\n\")"
   ]
  },
  {
   "cell_type": "code",
   "execution_count": 39,
   "id": "Tm2IYdtO3heC",
   "metadata": {
    "colab": {
     "base_uri": "https://localhost:8080/"
    },
    "id": "Tm2IYdtO3heC",
    "outputId": "1ca90f30-5090-4fef-e991-6a4dee9f84d4"
   },
   "outputs": [
    {
     "name": "stdout",
     "output_type": "stream",
     "text": [
      "Resultados do teste Chi-Quadrado\n",
      "\n",
      "\n",
      "Procedência x Óbito: \n",
      "\n",
      "Chi-Quadrado = 2.58517, p-valor = 0.10787, graus de liberdade = 1\n",
      "\n",
      "\n",
      "Pré-natal x Óbito: \n",
      "\n",
      "Chi-Quadrado = 1.56428, p-valor = 0.21104, graus de liberdade = 1\n",
      "\n",
      "\n",
      "Hipertenção arterial crônica x Óbito: \n",
      "\n",
      "Chi-Quadrado = 0.45984, p-valor = 0.4977, graus de liberdade = 1\n",
      "\n",
      "\n",
      "Diabetes melitus x Óbito: \n",
      "\n",
      "Chi-Quadrado = 1.24113, p-valor = 0.26525, graus de liberdade = 1\n",
      "\n",
      "\n",
      "Tabagismo x Óbito: \n",
      "\n",
      "Chi-Quadrado = 3.19018, p-valor = 0.07408, graus de liberdade = 1\n",
      "\n",
      "\n",
      "Eclâmpsia x Óbito: \n",
      "\n",
      "Chi-Quadrado = 0.14509, p-valor = 0.70328, graus de liberdade = 1\n",
      "\n",
      "\n",
      "Síndrome de Hellp x Óbito: \n",
      "\n",
      "Chi-Quadrado = 0.29507, p-valor = 0.58699, graus de liberdade = 1\n",
      "\n",
      "\n",
      "Trabalho de parto prematuro x Óbito: \n",
      "\n",
      "Chi-Quadrado = 85.52573, p-valor = 0.0, graus de liberdade = 1\n",
      "\n",
      "\n",
      "Internação na UTI x Óbito: \n",
      "\n",
      "Chi-Quadrado = 0.0, p-valor = 1.0, graus de liberdade = 1\n",
      "\n",
      "\n",
      "Sexo x Óbito: \n",
      "\n",
      "Chi-Quadrado = 1.46013, p-valor = 0.22691, graus de liberdade = 1\n",
      "\n",
      "\n",
      "Oxigênio x Óbito: \n",
      "\n",
      "Chi-Quadrado = 120.52087, p-valor = 0.0, graus de liberdade = 1\n"
     ]
    }
   ],
   "source": [
    "print(\"Resultados do teste Chi-Quadrado\\n\\n\")\n",
    "\n",
    "print(\"Procedência x Óbito: \\n\")\n",
    "print(\"Chi-Quadrado = {}, p-valor = {}, graus de liberdade = {}\".format(chi_tests[0][0].round(5), chi_tests[0][1].round(5), chi_tests[0][2]))\n",
    "\n",
    "print(\"\\n\")\n",
    "\n",
    "print(\"Pré-natal x Óbito: \\n\")\n",
    "print(\"Chi-Quadrado = {}, p-valor = {}, graus de liberdade = {}\".format(chi_tests[1][0].round(5), chi_tests[1][1].round(5), chi_tests[1][2]))\n",
    "\n",
    "print(\"\\n\")\n",
    "\n",
    "print(\"Hipertenção arterial crônica x Óbito: \\n\")\n",
    "print(\"Chi-Quadrado = {}, p-valor = {}, graus de liberdade = {}\".format(chi_tests[2][0].round(5), chi_tests[2][1].round(5), chi_tests[2][2]))\n",
    "\n",
    "print(\"\\n\")\n",
    "\n",
    "print(\"Diabetes melitus x Óbito: \\n\")\n",
    "print(\"Chi-Quadrado = {}, p-valor = {}, graus de liberdade = {}\".format(chi_tests[3][0].round(5), chi_tests[3][1].round(5), chi_tests[3][2]))\n",
    "\n",
    "print(\"\\n\")\n",
    "\n",
    "print(\"Tabagismo x Óbito: \\n\")\n",
    "print(\"Chi-Quadrado = {}, p-valor = {}, graus de liberdade = {}\".format(chi_tests[4][0].round(5), chi_tests[4][1].round(5), chi_tests[4][2]))\n",
    "\n",
    "print(\"\\n\")\n",
    "\n",
    "print(\"Eclâmpsia x Óbito: \\n\")\n",
    "print(\"Chi-Quadrado = {}, p-valor = {}, graus de liberdade = {}\".format(chi_tests[5][0].round(5), chi_tests[5][1].round(5), chi_tests[5][2]))\n",
    "\n",
    "print(\"\\n\")\n",
    "\n",
    "print(\"Síndrome de Hellp x Óbito: \\n\")\n",
    "print(\"Chi-Quadrado = {}, p-valor = {}, graus de liberdade = {}\".format(chi_tests[6][0].round(5), chi_tests[6][1].round(5), chi_tests[6][2]))\n",
    "\n",
    "print(\"\\n\")\n",
    "\n",
    "print(\"Trabalho de parto prematuro x Óbito: \\n\")\n",
    "print(\"Chi-Quadrado = {}, p-valor = {}, graus de liberdade = {}\".format(chi_tests[7][0].round(5), chi_tests[7][1].round(5), chi_tests[7][2]))\n",
    "\n",
    "print(\"\\n\")\n",
    "\n",
    "print(\"Internação na UTI x Óbito: \\n\")\n",
    "print(\"Chi-Quadrado = {}, p-valor = {}, graus de liberdade = {}\".format(chi_tests[8][0].round(5), chi_tests[8][1].round(5), chi_tests[8][2]))\n",
    "\n",
    "print(\"\\n\")\n",
    "\n",
    "print(\"Sexo x Óbito: \\n\")\n",
    "print(\"Chi-Quadrado = {}, p-valor = {}, graus de liberdade = {}\".format(chi_tests[9][0].round(5), chi_tests[9][1].round(5), chi_tests[9][2]))\n",
    "\n",
    "print(\"\\n\")\n",
    "\n",
    "print(\"Oxigênio x Óbito: \\n\")\n",
    "print(\"Chi-Quadrado = {}, p-valor = {}, graus de liberdade = {}\".format(chi_tests[10][0].round(5), chi_tests[10][1].round(5), chi_tests[10][2]))"
   ]
  },
  {
   "cell_type": "code",
   "execution_count": 40,
   "id": "Zh2-SDRu47Od",
   "metadata": {
    "colab": {
     "base_uri": "https://localhost:8080/"
    },
    "id": "Zh2-SDRu47Od",
    "outputId": "317f38e5-a8b8-4620-d132-4601220994fa"
   },
   "outputs": [
    {
     "name": "stdout",
     "output_type": "stream",
     "text": [
      "Resultados do Teste exato de Fisher\n",
      "\n",
      "\n",
      "Procedência x Óbito: \n",
      "\n",
      "OR = 0.63234, p-valor = 0.10347\n",
      "\n",
      "\n",
      "Pré-natal x Óbito: \n",
      "\n",
      "OR = 1.88202, p-valor = 0.17924\n",
      "\n",
      "\n",
      "Hipertenção arterial crônica x Óbito: \n",
      "\n",
      "OR = 0.74628, p-valor = 0.35491\n",
      "\n",
      "\n",
      "Diabetes melitus x Óbito: \n",
      "\n",
      "OR = 3.77684, p-valor = 0.24703\n",
      "\n",
      "\n",
      "Tabagismo x Óbito: \n",
      "\n",
      "OR = 0.48876, p-valor = 0.06289\n",
      "\n",
      "\n",
      "Eclâmpsia x Óbito: \n",
      "\n",
      "OR = 0.51176, p-valor = 0.30915\n",
      "\n",
      "\n",
      "Síndrome de Hellp x Óbito: \n",
      "\n",
      "OR = 0.62448, p-valor = 0.3323\n",
      "\n",
      "\n",
      "Trabalho de parto prematuro x Óbito: \n",
      "\n",
      "OR = 0.09219, p-valor = 0.0\n",
      "\n",
      "\n",
      "Internação na UTI x Óbito: \n",
      "\n",
      "OR = 0.86476, p-valor = 0.77414\n",
      "\n",
      "\n",
      "Sexo x Óbito: \n",
      "\n",
      "OR = 0.75015, p-valor = 0.19478\n",
      "\n",
      "\n",
      "Oxigênio x Óbito: \n",
      "\n",
      "OR = 0.0, p-valor = 0.0\n"
     ]
    }
   ],
   "source": [
    "print(\"Resultados do Teste exato de Fisher\\n\\n\")\n",
    "\n",
    "print(\"Procedência x Óbito: \\n\")\n",
    "print(\"OR = {}, p-valor = {}\".format(fisher_exact_tests[0][0].round(5), fisher_exact_tests[0][1].round(5)))\n",
    "\n",
    "print(\"\\n\")\n",
    "\n",
    "print(\"Pré-natal x Óbito: \\n\")\n",
    "print(\"OR = {}, p-valor = {}\".format(fisher_exact_tests[1][0].round(5), fisher_exact_tests[1][1].round(5)))\n",
    "\n",
    "print(\"\\n\")\n",
    "\n",
    "print(\"Hipertenção arterial crônica x Óbito: \\n\")\n",
    "print(\"OR = {}, p-valor = {}\".format(fisher_exact_tests[2][0].round(5), fisher_exact_tests[2][1].round(5)))\n",
    "\n",
    "print(\"\\n\")\n",
    "\n",
    "print(\"Diabetes melitus x Óbito: \\n\")\n",
    "print(\"OR = {}, p-valor = {}\".format(fisher_exact_tests[3][0].round(5), fisher_exact_tests[3][1].round(5)))\n",
    "\n",
    "print(\"\\n\")\n",
    "\n",
    "print(\"Tabagismo x Óbito: \\n\")\n",
    "print(\"OR = {}, p-valor = {}\".format(fisher_exact_tests[4][0].round(5), fisher_exact_tests[4][1].round(5)))\n",
    "\n",
    "print(\"\\n\")\n",
    "\n",
    "print(\"Eclâmpsia x Óbito: \\n\")\n",
    "print(\"OR = {}, p-valor = {}\".format(fisher_exact_tests[5][0].round(5), fisher_exact_tests[5][1].round(5)))\n",
    "\n",
    "print(\"\\n\")\n",
    "\n",
    "print(\"Síndrome de Hellp x Óbito: \\n\")\n",
    "print(\"OR = {}, p-valor = {}\".format(fisher_exact_tests[6][0].round(5), fisher_exact_tests[6][1].round(5)))\n",
    "\n",
    "print(\"\\n\")\n",
    "\n",
    "print(\"Trabalho de parto prematuro x Óbito: \\n\")\n",
    "print(\"OR = {}, p-valor = {}\".format(fisher_exact_tests[7][0].round(5), fisher_exact_tests[7][1].round(5)))\n",
    "\n",
    "print(\"\\n\")\n",
    "\n",
    "print(\"Internação na UTI x Óbito: \\n\")\n",
    "print(\"OR = {}, p-valor = {}\".format(fisher_exact_tests[8][0].round(5), fisher_exact_tests[8][1].round(5)))\n",
    "\n",
    "print(\"\\n\")\n",
    "\n",
    "print(\"Sexo x Óbito: \\n\")\n",
    "print(\"OR = {}, p-valor = {}\".format(fisher_exact_tests[9][0].round(5), fisher_exact_tests[9][1].round(5)))\n",
    "\n",
    "print(\"\\n\")\n",
    "\n",
    "print(\"Oxigênio x Óbito: \\n\")\n",
    "print(\"OR = {}, p-valor = {}\".format(fisher_exact_tests[10][0].round(5), fisher_exact_tests[10][1].round(5)))"
   ]
  }
 ],
 "metadata": {
  "colab": {
   "provenance": []
  },
  "kernelspec": {
   "display_name": "Python 3 (ipykernel)",
   "language": "python",
   "name": "python3"
  },
  "language_info": {
   "codemirror_mode": {
    "name": "ipython",
    "version": 3
   },
   "file_extension": ".py",
   "mimetype": "text/x-python",
   "name": "python",
   "nbconvert_exporter": "python",
   "pygments_lexer": "ipython3",
   "version": "3.9.15"
  },
  "toc-autonumbering": false,
  "toc-showcode": false,
  "toc-showmarkdowntxt": false
 },
 "nbformat": 4,
 "nbformat_minor": 5
}
